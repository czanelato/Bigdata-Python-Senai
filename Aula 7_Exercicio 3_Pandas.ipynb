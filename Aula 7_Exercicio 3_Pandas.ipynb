{
 "cells": [
  {
   "cell_type": "markdown",
   "metadata": {},
   "source": [
    "# Exercicio 3\n",
    "\n",
    "a) Crie um programa em pandas para ler o arquivo em Excel vendas.xlsx e\n",
    "b) coloque em um dataframe.\n",
    "c) Visualize o cabeçalho dos dados;\n",
    "d) Visualize as últimas linhas;\n",
    "e) Escreva um programa para renomear o cabeçalho da tabela com os seguintes nomes:\n",
    "![image.png](attachment:image.png)\n",
    "g) Quais são os tipos de dados que temos no dataframe?"
   ]
  },
  {
   "cell_type": "code",
   "execution_count": 14,
   "metadata": {},
   "outputs": [
    {
     "data": {
      "text/html": [
       "<div>\n",
       "<style scoped>\n",
       "    .dataframe tbody tr th:only-of-type {\n",
       "        vertical-align: middle;\n",
       "    }\n",
       "\n",
       "    .dataframe tbody tr th {\n",
       "        vertical-align: top;\n",
       "    }\n",
       "\n",
       "    .dataframe thead th {\n",
       "        text-align: right;\n",
       "    }\n",
       "</style>\n",
       "<table border=\"1\" class=\"dataframe\">\n",
       "  <thead>\n",
       "    <tr style=\"text-align: right;\">\n",
       "      <th></th>\n",
       "      <th>Coluna 1</th>\n",
       "      <th>Coluna 2</th>\n",
       "      <th>Coluna 3</th>\n",
       "      <th>Coluna 4</th>\n",
       "      <th>Coluna 5</th>\n",
       "      <th>Coluna 6</th>\n",
       "    </tr>\n",
       "  </thead>\n",
       "  <tbody>\n",
       "    <tr>\n",
       "      <th>0</th>\n",
       "      <td>2014-01-01</td>\n",
       "      <td>Bernardo de Sousa</td>\n",
       "      <td>Supervisor de Vendas Pl</td>\n",
       "      <td>ACME</td>\n",
       "      <td>AL</td>\n",
       "      <td>3276.20</td>\n",
       "    </tr>\n",
       "    <tr>\n",
       "      <th>1</th>\n",
       "      <td>2014-01-01</td>\n",
       "      <td>Bernardo de Sousa</td>\n",
       "      <td>Supervisor de Vendas Pl</td>\n",
       "      <td>ACME</td>\n",
       "      <td>AP</td>\n",
       "      <td>3005.86</td>\n",
       "    </tr>\n",
       "    <tr>\n",
       "      <th>2</th>\n",
       "      <td>2014-01-01</td>\n",
       "      <td>Bernardo de Sousa</td>\n",
       "      <td>Supervisor de Vendas Pl</td>\n",
       "      <td>ACME</td>\n",
       "      <td>MA</td>\n",
       "      <td>8568.54</td>\n",
       "    </tr>\n",
       "    <tr>\n",
       "      <th>3</th>\n",
       "      <td>2014-01-01</td>\n",
       "      <td>Bernardo de Sousa</td>\n",
       "      <td>Supervisor de Vendas Pl</td>\n",
       "      <td>ACME</td>\n",
       "      <td>MG</td>\n",
       "      <td>1344.27</td>\n",
       "    </tr>\n",
       "    <tr>\n",
       "      <th>4</th>\n",
       "      <td>2014-01-01</td>\n",
       "      <td>Bernardo de Sousa</td>\n",
       "      <td>Supervisor de Vendas Pl</td>\n",
       "      <td>ACME</td>\n",
       "      <td>MS</td>\n",
       "      <td>7585.04</td>\n",
       "    </tr>\n",
       "  </tbody>\n",
       "</table>\n",
       "</div>"
      ],
      "text/plain": [
       "    Coluna 1           Coluna 2                 Coluna 3 Coluna 4 Coluna 5  \\\n",
       "0 2014-01-01  Bernardo de Sousa  Supervisor de Vendas Pl     ACME       AL   \n",
       "1 2014-01-01  Bernardo de Sousa  Supervisor de Vendas Pl     ACME       AP   \n",
       "2 2014-01-01  Bernardo de Sousa  Supervisor de Vendas Pl     ACME       MA   \n",
       "3 2014-01-01  Bernardo de Sousa  Supervisor de Vendas Pl     ACME       MG   \n",
       "4 2014-01-01  Bernardo de Sousa  Supervisor de Vendas Pl     ACME       MS   \n",
       "\n",
       "   Coluna 6  \n",
       "0   3276.20  \n",
       "1   3005.86  \n",
       "2   8568.54  \n",
       "3   1344.27  \n",
       "4   7585.04  "
      ]
     },
     "execution_count": 14,
     "metadata": {},
     "output_type": "execute_result"
    }
   ],
   "source": [
    "# Importar a bibliotec\n",
    "import pandas as pd\n",
    "\n",
    "# Caminho do arquivo\n",
    "caminho = \"C:\\\\Users\\\\FIC\\\\Documents\\\\Carlos Zanelato_Python\\\\Arquivos\\\\Vendas.xlsx\"\n",
    "\n",
    "# Carregar um arquivo para um dataframe\n",
    "df = pd.read_excel(caminho)\n",
    "\n",
    "df.head()"
   ]
  },
  {
   "cell_type": "code",
   "execution_count": 15,
   "metadata": {},
   "outputs": [
    {
     "data": {
      "text/html": [
       "<div>\n",
       "<style scoped>\n",
       "    .dataframe tbody tr th:only-of-type {\n",
       "        vertical-align: middle;\n",
       "    }\n",
       "\n",
       "    .dataframe tbody tr th {\n",
       "        vertical-align: top;\n",
       "    }\n",
       "\n",
       "    .dataframe thead th {\n",
       "        text-align: right;\n",
       "    }\n",
       "</style>\n",
       "<table border=\"1\" class=\"dataframe\">\n",
       "  <thead>\n",
       "    <tr style=\"text-align: right;\">\n",
       "      <th></th>\n",
       "      <th>Coluna 1</th>\n",
       "      <th>Coluna 2</th>\n",
       "      <th>Coluna 3</th>\n",
       "      <th>Coluna 4</th>\n",
       "      <th>Coluna 5</th>\n",
       "      <th>Coluna 6</th>\n",
       "    </tr>\n",
       "  </thead>\n",
       "  <tbody>\n",
       "    <tr>\n",
       "      <th>130461</th>\n",
       "      <td>2016-12-31</td>\n",
       "      <td>Liz Azevedo Santos</td>\n",
       "      <td>Vendedor Pl.</td>\n",
       "      <td>Planet Express</td>\n",
       "      <td>PI</td>\n",
       "      <td>1829.39</td>\n",
       "    </tr>\n",
       "    <tr>\n",
       "      <th>130462</th>\n",
       "      <td>2016-12-31</td>\n",
       "      <td>Liz Azevedo Santos</td>\n",
       "      <td>Vendedor Pl.</td>\n",
       "      <td>Planet Express</td>\n",
       "      <td>PR</td>\n",
       "      <td>2378.48</td>\n",
       "    </tr>\n",
       "    <tr>\n",
       "      <th>130463</th>\n",
       "      <td>2016-12-31</td>\n",
       "      <td>Liz Azevedo Santos</td>\n",
       "      <td>Vendedor Pl.</td>\n",
       "      <td>Planet Express</td>\n",
       "      <td>RO</td>\n",
       "      <td>4488.47</td>\n",
       "    </tr>\n",
       "    <tr>\n",
       "      <th>130464</th>\n",
       "      <td>2016-12-31</td>\n",
       "      <td>Liz Azevedo Santos</td>\n",
       "      <td>Vendedor Pl.</td>\n",
       "      <td>Planet Express</td>\n",
       "      <td>RR</td>\n",
       "      <td>1543.66</td>\n",
       "    </tr>\n",
       "    <tr>\n",
       "      <th>130465</th>\n",
       "      <td>2016-12-31</td>\n",
       "      <td>Liz Azevedo Santos</td>\n",
       "      <td>Vendedor Pl.</td>\n",
       "      <td>Planet Express</td>\n",
       "      <td>SC</td>\n",
       "      <td>9820.71</td>\n",
       "    </tr>\n",
       "  </tbody>\n",
       "</table>\n",
       "</div>"
      ],
      "text/plain": [
       "         Coluna 1            Coluna 2      Coluna 3        Coluna 4 Coluna 5  \\\n",
       "130461 2016-12-31  Liz Azevedo Santos  Vendedor Pl.  Planet Express       PI   \n",
       "130462 2016-12-31  Liz Azevedo Santos  Vendedor Pl.  Planet Express       PR   \n",
       "130463 2016-12-31  Liz Azevedo Santos  Vendedor Pl.  Planet Express       RO   \n",
       "130464 2016-12-31  Liz Azevedo Santos  Vendedor Pl.  Planet Express       RR   \n",
       "130465 2016-12-31  Liz Azevedo Santos  Vendedor Pl.  Planet Express       SC   \n",
       "\n",
       "        Coluna 6  \n",
       "130461   1829.39  \n",
       "130462   2378.48  \n",
       "130463   4488.47  \n",
       "130464   1543.66  \n",
       "130465   9820.71  "
      ]
     },
     "execution_count": 15,
     "metadata": {},
     "output_type": "execute_result"
    }
   ],
   "source": [
    "df.tail()"
   ]
  },
  {
   "cell_type": "code",
   "execution_count": 16,
   "metadata": {},
   "outputs": [
    {
     "data": {
      "text/html": [
       "<div>\n",
       "<style scoped>\n",
       "    .dataframe tbody tr th:only-of-type {\n",
       "        vertical-align: middle;\n",
       "    }\n",
       "\n",
       "    .dataframe tbody tr th {\n",
       "        vertical-align: top;\n",
       "    }\n",
       "\n",
       "    .dataframe thead th {\n",
       "        text-align: right;\n",
       "    }\n",
       "</style>\n",
       "<table border=\"1\" class=\"dataframe\">\n",
       "  <thead>\n",
       "    <tr style=\"text-align: right;\">\n",
       "      <th></th>\n",
       "      <th>Data</th>\n",
       "      <th>Vendedor</th>\n",
       "      <th>Cargo</th>\n",
       "      <th>Cliente</th>\n",
       "      <th>UF</th>\n",
       "      <th>Vendas</th>\n",
       "    </tr>\n",
       "  </thead>\n",
       "  <tbody>\n",
       "    <tr>\n",
       "      <th>0</th>\n",
       "      <td>2014-01-01</td>\n",
       "      <td>Bernardo de Sousa</td>\n",
       "      <td>Supervisor de Vendas Pl</td>\n",
       "      <td>ACME</td>\n",
       "      <td>AL</td>\n",
       "      <td>3276.20</td>\n",
       "    </tr>\n",
       "    <tr>\n",
       "      <th>1</th>\n",
       "      <td>2014-01-01</td>\n",
       "      <td>Bernardo de Sousa</td>\n",
       "      <td>Supervisor de Vendas Pl</td>\n",
       "      <td>ACME</td>\n",
       "      <td>AP</td>\n",
       "      <td>3005.86</td>\n",
       "    </tr>\n",
       "    <tr>\n",
       "      <th>2</th>\n",
       "      <td>2014-01-01</td>\n",
       "      <td>Bernardo de Sousa</td>\n",
       "      <td>Supervisor de Vendas Pl</td>\n",
       "      <td>ACME</td>\n",
       "      <td>MA</td>\n",
       "      <td>8568.54</td>\n",
       "    </tr>\n",
       "    <tr>\n",
       "      <th>3</th>\n",
       "      <td>2014-01-01</td>\n",
       "      <td>Bernardo de Sousa</td>\n",
       "      <td>Supervisor de Vendas Pl</td>\n",
       "      <td>ACME</td>\n",
       "      <td>MG</td>\n",
       "      <td>1344.27</td>\n",
       "    </tr>\n",
       "    <tr>\n",
       "      <th>4</th>\n",
       "      <td>2014-01-01</td>\n",
       "      <td>Bernardo de Sousa</td>\n",
       "      <td>Supervisor de Vendas Pl</td>\n",
       "      <td>ACME</td>\n",
       "      <td>MS</td>\n",
       "      <td>7585.04</td>\n",
       "    </tr>\n",
       "  </tbody>\n",
       "</table>\n",
       "</div>"
      ],
      "text/plain": [
       "        Data           Vendedor                    Cargo Cliente  UF   Vendas\n",
       "0 2014-01-01  Bernardo de Sousa  Supervisor de Vendas Pl    ACME  AL  3276.20\n",
       "1 2014-01-01  Bernardo de Sousa  Supervisor de Vendas Pl    ACME  AP  3005.86\n",
       "2 2014-01-01  Bernardo de Sousa  Supervisor de Vendas Pl    ACME  MA  8568.54\n",
       "3 2014-01-01  Bernardo de Sousa  Supervisor de Vendas Pl    ACME  MG  1344.27\n",
       "4 2014-01-01  Bernardo de Sousa  Supervisor de Vendas Pl    ACME  MS  7585.04"
      ]
     },
     "execution_count": 16,
     "metadata": {},
     "output_type": "execute_result"
    }
   ],
   "source": [
    "df.columns=['Data',\n",
    "            'Vendedor',\n",
    "            'Cargo',\n",
    "            'Cliente',\n",
    "            'UF',\n",
    "            'Vendas']\n",
    "\n",
    "df.head()"
   ]
  },
  {
   "cell_type": "code",
   "execution_count": 17,
   "metadata": {},
   "outputs": [
    {
     "name": "stdout",
     "output_type": "stream",
     "text": [
      "<class 'pandas.core.frame.DataFrame'>\n",
      "RangeIndex: 130466 entries, 0 to 130465\n",
      "Data columns (total 6 columns):\n",
      " #   Column    Non-Null Count   Dtype         \n",
      "---  ------    --------------   -----         \n",
      " 0   Data      130466 non-null  datetime64[ns]\n",
      " 1   Vendedor  130466 non-null  object        \n",
      " 2   Cargo     130466 non-null  object        \n",
      " 3   Cliente   130466 non-null  object        \n",
      " 4   UF        130466 non-null  object        \n",
      " 5   Vendas    130466 non-null  float64       \n",
      "dtypes: datetime64[ns](1), float64(1), object(4)\n",
      "memory usage: 6.0+ MB\n"
     ]
    }
   ],
   "source": [
    "df.info()"
   ]
  },
  {
   "cell_type": "markdown",
   "metadata": {},
   "source": [
    "No Dataframe temos datetime, object e float.\n",
    "Não há dados faltantes ou nulos."
   ]
  },
  {
   "cell_type": "code",
   "execution_count": 18,
   "metadata": {},
   "outputs": [
    {
     "data": {
      "text/plain": [
       "718501609.25"
      ]
     },
     "execution_count": 18,
     "metadata": {},
     "output_type": "execute_result"
    }
   ],
   "source": [
    "df['Vendas'].sum()"
   ]
  },
  {
   "cell_type": "code",
   "execution_count": 7,
   "metadata": {},
   "outputs": [
    {
     "data": {
      "text/plain": [
       "5507.194282418408"
      ]
     },
     "execution_count": 7,
     "metadata": {},
     "output_type": "execute_result"
    }
   ],
   "source": [
    "df['Vendas'].mean()"
   ]
  },
  {
   "cell_type": "code",
   "execution_count": 8,
   "metadata": {},
   "outputs": [
    {
     "data": {
      "text/plain": [
       "10000.0"
      ]
     },
     "execution_count": 8,
     "metadata": {},
     "output_type": "execute_result"
    }
   ],
   "source": [
    "df['Vendas'].max()"
   ]
  },
  {
   "cell_type": "code",
   "execution_count": 9,
   "metadata": {},
   "outputs": [
    {
     "data": {
      "text/plain": [
       "1000.01"
      ]
     },
     "execution_count": 9,
     "metadata": {},
     "output_type": "execute_result"
    }
   ],
   "source": [
    "df['Vendas'].min()"
   ]
  },
  {
   "cell_type": "code",
   "execution_count": 10,
   "metadata": {},
   "outputs": [
    {
     "data": {
      "text/plain": [
       "130466"
      ]
     },
     "execution_count": 10,
     "metadata": {},
     "output_type": "execute_result"
    }
   ],
   "source": [
    "df[\"Vendas\"].count()"
   ]
  },
  {
   "cell_type": "markdown",
   "metadata": {},
   "source": [
    "# Filtrar os dados de uma forma mais facil"
   ]
  },
  {
   "cell_type": "code",
   "execution_count": 22,
   "metadata": {},
   "outputs": [],
   "source": [
    "#1 Selecionar a coluna de interesse\n",
    "\n",
    "df_cargos = df['Cargo'].drop_duplicates()\n",
    "\n",
    "#2 Converter o df_cargos em lista\n",
    "\n",
    "cargos = df_cargos.to_list()\n",
    "cargos\n",
    "\n",
    "#Filtrar o Dataframe utilizando a lista cargos\n",
    "\n",
    "for cargo in cargos:\n",
    "    df_final = df[df['Cargo']==cargo]#Filtrar de acordo com os cargos\n",
    "    caminho = \"C:\\\\Users\\\\FIC\\\\Documents\\\\Carlos Zanelato_Python\\\\Relatórios Exercicio 3\\\\Cargos\\\\\"#Caminho da pasta\n",
    "    arquivo = cargo + '.xlsx'#Nome do arquivo\n",
    "    df_final.to_excel(caminho+arquivo)#Gerando um arquivo em Excel\n"
   ]
  },
  {
   "cell_type": "code",
   "execution_count": 23,
   "metadata": {},
   "outputs": [],
   "source": [
    "#1 Selecionar a coluna de interesse\n",
    "\n",
    "df_clientes = df['Cliente'].drop_duplicates()\n",
    "\n",
    "#2 Converter o df_cargos em lista\n",
    "\n",
    "clientes = df_clientes.to_list()\n",
    "clientes\n",
    "\n",
    "#Filtrar o Dataframe utilizando a lista cargos\n",
    "\n",
    "for cliente in clientes:\n",
    "    df_final = df[df['Cliente']==cliente]#Filtrar de acordo com os cargos\n",
    "    caminho = \"C:\\\\Users\\\\FIC\\\\Documents\\\\Carlos Zanelato_Python\\\\Relatórios Exercicio 3\\\\Clientes\\\\\"#Caminho da pasta\n",
    "    arquivo = cliente + '.xlsx'#Nome do arquivo\n",
    "    df_final.to_excel(caminho+arquivo)#Gerando um arquivo em Excel\n"
   ]
  },
  {
   "cell_type": "code",
   "execution_count": 24,
   "metadata": {},
   "outputs": [],
   "source": [
    "#1 Selecionar a coluna de interesse\n",
    "\n",
    "df_vendedores = df['Vendedor'].drop_duplicates()\n",
    "\n",
    "#2 Converter o df_cargos em lista\n",
    "\n",
    "vendedores = df_vendedores.to_list()\n",
    "vendedores\n",
    "\n",
    "#Filtrar o Dataframe utilizando a lista cargos\n",
    "\n",
    "for vendedor in vendedores:\n",
    "    df_final = df[df['Vendedor']==vendedor]#Filtrar de acordo com os cargos\n",
    "    caminho = \"C:\\\\Users\\\\FIC\\Documents\\\\Carlos Zanelato_Python\\\\Relatórios Exercicio 3\\\\Vendedores\\\\\"#Caminho da pasta\n",
    "    arquivo = vendedor + '.xlsx'#Nome do arquivo\n",
    "    df_final.to_excel(caminho+arquivo)#Gerando um arquivo em Excel\n"
   ]
  },
  {
   "attachments": {
    "image.png": {
     "image/png": "[encoded data removed]"
    }
   },
   "cell_type": "markdown",
   "metadata": {},
   "source": [
    "# Exercício 04 – Criando relatórios em função do arquivo dados-vendas.xlsx.\n",
    "\n",
    "    a) Crie um dataframe, utilizando o arquivo dados-vendas.xlsx. Crie data frames para dividir a planilha vendas em 4 arquivos. São eles:\n",
    "\n",
    "![image.png](attachment:image.png)\n",
    "\n",
    "    b) Com base na coluna Vendedor, construa um código que permita remover as duplicadas da coluna informada, e na sequência, filtre o dataframe e gere um relatório individual para cada vendedor. Para fazer isso, siga os procedimentos a seguir:\n",
    "    1. Crie uma pasta chamada relatórios-vendedores;\n",
    "    2. Importe a biblioteca Pandas;\n",
    "    3. Declare uma variável chamada path para armazenar o caminho da pasta criada;\n",
    "    4. Declare uma variável com o nome file para armazenar o nome do arquivo que será manipulado;\n",
    "    5. Crie um dataframe chamado dados e utilize o comando pd.read_excel\n",
    "    para acessar o arquivo.\n",
    "    6. Visualize o cabeçalho do dataframe;\n",
    "    7. Crie um dataframe chamado df_vendedores, para atribuir valores a ele você deve selecionar apenas a coluna Vendedores e remover as duplicadas do mesmo. Confirme se realmente o comando removeu as duplicadas.\n",
    "    Após isso, crie uma lista com o seguinte nome listaVendedores, essa lista deve receber os dados do dataframe df_vendedores. Para isso, você deve converter o dataframe em lista, utilize o comando\n",
    "    dataframe.tolist().\n",
    "    8. Construa uma estrutura de repetição (FOR) para que a variável vendedor receba os nomes que estão na lista listaVendedores e filtre o dataframe dados, utilizando a coluna Vendedores para que gere um novo dataframe (df_final) para cada vendedor. Ainda na estrutura de repetição, você deve inserir uma linha de código para gerar um arquivo em Excel para cada vendedor, utilize o comando dataframe.to_excel."
   ]
  },
  {
   "cell_type": "code",
   "execution_count": 7,
   "metadata": {},
   "outputs": [
    {
     "data": {
      "text/html": [
       "<div>\n",
       "<style scoped>\n",
       "    .dataframe tbody tr th:only-of-type {\n",
       "        vertical-align: middle;\n",
       "    }\n",
       "\n",
       "    .dataframe tbody tr th {\n",
       "        vertical-align: top;\n",
       "    }\n",
       "\n",
       "    .dataframe thead th {\n",
       "        text-align: right;\n",
       "    }\n",
       "</style>\n",
       "<table border=\"1\" class=\"dataframe\">\n",
       "  <thead>\n",
       "    <tr style=\"text-align: right;\">\n",
       "      <th></th>\n",
       "      <th>ID-Produto</th>\n",
       "      <th>Produto</th>\n",
       "      <th>Categoria</th>\n",
       "      <th>Segmento</th>\n",
       "      <th>Fabricante</th>\n",
       "      <th>Loja</th>\n",
       "      <th>Cidade</th>\n",
       "      <th>Estado</th>\n",
       "      <th>Vendedor</th>\n",
       "      <th>ID-Vendedor</th>\n",
       "      <th>Data Venda</th>\n",
       "      <th>ValorVenda</th>\n",
       "    </tr>\n",
       "  </thead>\n",
       "  <tbody>\n",
       "    <tr>\n",
       "      <th>0</th>\n",
       "      <td>SKU-0000001</td>\n",
       "      <td>LG K10 TV Power</td>\n",
       "      <td>Celulares</td>\n",
       "      <td>Corporativo</td>\n",
       "      <td>LG</td>\n",
       "      <td>SP8821</td>\n",
       "      <td>São Paulo</td>\n",
       "      <td>São Paulo</td>\n",
       "      <td>Ana Teixeira</td>\n",
       "      <td>1009</td>\n",
       "      <td>2012-10-04</td>\n",
       "      <td>679.00</td>\n",
       "    </tr>\n",
       "    <tr>\n",
       "      <th>1</th>\n",
       "      <td>SKU-0000002</td>\n",
       "      <td>Geladeira Duplex</td>\n",
       "      <td>Eletrodomésticos</td>\n",
       "      <td>Doméstico</td>\n",
       "      <td>Brastemp</td>\n",
       "      <td>SP8821</td>\n",
       "      <td>São Paulo</td>\n",
       "      <td>São Paulo</td>\n",
       "      <td>Josias Silva</td>\n",
       "      <td>1006</td>\n",
       "      <td>2012-01-01</td>\n",
       "      <td>832.00</td>\n",
       "    </tr>\n",
       "    <tr>\n",
       "      <th>2</th>\n",
       "      <td>SKU-0000003</td>\n",
       "      <td>Lavadora 11 Kg</td>\n",
       "      <td>Eletrodomésticos</td>\n",
       "      <td>Doméstico</td>\n",
       "      <td>Brastemp</td>\n",
       "      <td>SP8821</td>\n",
       "      <td>São Paulo</td>\n",
       "      <td>São Paulo</td>\n",
       "      <td>Josias Silva</td>\n",
       "      <td>1006</td>\n",
       "      <td>2012-02-02</td>\n",
       "      <td>790.00</td>\n",
       "    </tr>\n",
       "    <tr>\n",
       "      <th>3</th>\n",
       "      <td>SKU-0000004</td>\n",
       "      <td>Lavadora 11 Kg</td>\n",
       "      <td>Eletrodomésticos</td>\n",
       "      <td>Doméstico</td>\n",
       "      <td>Brastemp</td>\n",
       "      <td>SP8821</td>\n",
       "      <td>São Paulo</td>\n",
       "      <td>São Paulo</td>\n",
       "      <td>Mateus Gonçalves</td>\n",
       "      <td>1003</td>\n",
       "      <td>2012-03-03</td>\n",
       "      <td>765.32</td>\n",
       "    </tr>\n",
       "    <tr>\n",
       "      <th>4</th>\n",
       "      <td>SKU-0000005</td>\n",
       "      <td>Lavadora 11 Kg</td>\n",
       "      <td>Eletrodomésticos</td>\n",
       "      <td>Doméstico</td>\n",
       "      <td>Electrolux</td>\n",
       "      <td>SP8821</td>\n",
       "      <td>São Paulo</td>\n",
       "      <td>São Paulo</td>\n",
       "      <td>Artur Moreira</td>\n",
       "      <td>1004</td>\n",
       "      <td>2012-04-04</td>\n",
       "      <td>459.89</td>\n",
       "    </tr>\n",
       "  </tbody>\n",
       "</table>\n",
       "</div>"
      ],
      "text/plain": [
       "    ID-Produto           Produto         Categoria     Segmento  Fabricante  \\\n",
       "0  SKU-0000001   LG K10 TV Power         Celulares  Corporativo          LG   \n",
       "1  SKU-0000002  Geladeira Duplex  Eletrodomésticos    Doméstico    Brastemp   \n",
       "2  SKU-0000003    Lavadora 11 Kg  Eletrodomésticos    Doméstico    Brastemp   \n",
       "3  SKU-0000004    Lavadora 11 Kg  Eletrodomésticos    Doméstico    Brastemp   \n",
       "4  SKU-0000005    Lavadora 11 Kg  Eletrodomésticos    Doméstico  Electrolux   \n",
       "\n",
       "     Loja     Cidade     Estado          Vendedor  ID-Vendedor Data Venda  \\\n",
       "0  SP8821  São Paulo  São Paulo      Ana Teixeira         1009 2012-10-04   \n",
       "1  SP8821  São Paulo  São Paulo      Josias Silva         1006 2012-01-01   \n",
       "2  SP8821  São Paulo  São Paulo      Josias Silva         1006 2012-02-02   \n",
       "3  SP8821  São Paulo  São Paulo  Mateus Gonçalves         1003 2012-03-03   \n",
       "4  SP8821  São Paulo  São Paulo     Artur Moreira         1004 2012-04-04   \n",
       "\n",
       "   ValorVenda  \n",
       "0      679.00  \n",
       "1      832.00  \n",
       "2      790.00  \n",
       "3      765.32  \n",
       "4      459.89  "
      ]
     },
     "execution_count": 7,
     "metadata": {},
     "output_type": "execute_result"
    }
   ],
   "source": [
    "# Importar a bibliotec\n",
    "import pandas as pd\n",
    "\n",
    "# Caminho do arquivo\n",
    "caminho = \"C:\\\\Users\\\\FIC\\\\Documents\\\\Carlos Zanelato_Python\\\\Arquivos\\\\dados-vendas.xlsx\"\n",
    "\n",
    "# Carregar um arquivo para um dataframe\n",
    "df = pd.read_excel(caminho)\n",
    "\n",
    "df.head()"
   ]
  },
  {
   "cell_type": "markdown",
   "metadata": {},
   "source": [
    "# Dividir o Dataframe em 4 tabelas\n",
    "\n",
    "- Tabela Fato\n",
    "\n",
    "- Dimensão Produto\n",
    "\n",
    "- Dimensão Vendedor\n",
    "\n",
    "- Dimensão Lojas"
   ]
  },
  {
   "cell_type": "code",
   "execution_count": 5,
   "metadata": {},
   "outputs": [],
   "source": [
    "# Importando o módulo OS\n",
    "\n",
    "import os\n",
    "\n",
    "## Criando uma pasta no diretório atual\n",
    "\n",
    "os.mkdir('./Relatórios Exercicio 5')"
   ]
  },
  {
   "cell_type": "code",
   "execution_count": 9,
   "metadata": {},
   "outputs": [
    {
     "data": {
      "text/html": [
       "<div>\n",
       "<style scoped>\n",
       "    .dataframe tbody tr th:only-of-type {\n",
       "        vertical-align: middle;\n",
       "    }\n",
       "\n",
       "    .dataframe tbody tr th {\n",
       "        vertical-align: top;\n",
       "    }\n",
       "\n",
       "    .dataframe thead th {\n",
       "        text-align: right;\n",
       "    }\n",
       "</style>\n",
       "<table border=\"1\" class=\"dataframe\">\n",
       "  <thead>\n",
       "    <tr style=\"text-align: right;\">\n",
       "      <th></th>\n",
       "      <th>ID-Produto</th>\n",
       "      <th>Produto</th>\n",
       "      <th>Categoria</th>\n",
       "      <th>Segmento</th>\n",
       "      <th>Fabricante</th>\n",
       "      <th>Loja</th>\n",
       "      <th>Cidade</th>\n",
       "      <th>Estado</th>\n",
       "      <th>Vendedor</th>\n",
       "      <th>ID-Vendedor</th>\n",
       "      <th>Data Venda</th>\n",
       "      <th>ValorVenda</th>\n",
       "    </tr>\n",
       "  </thead>\n",
       "  <tbody>\n",
       "    <tr>\n",
       "      <th>0</th>\n",
       "      <td>SKU-0000001</td>\n",
       "      <td>LG K10 TV Power</td>\n",
       "      <td>Celulares</td>\n",
       "      <td>Corporativo</td>\n",
       "      <td>LG</td>\n",
       "      <td>SP8821</td>\n",
       "      <td>São Paulo</td>\n",
       "      <td>São Paulo</td>\n",
       "      <td>Ana Teixeira</td>\n",
       "      <td>1009</td>\n",
       "      <td>2012-10-04</td>\n",
       "      <td>679.00</td>\n",
       "    </tr>\n",
       "    <tr>\n",
       "      <th>1</th>\n",
       "      <td>SKU-0000002</td>\n",
       "      <td>Geladeira Duplex</td>\n",
       "      <td>Eletrodomésticos</td>\n",
       "      <td>Doméstico</td>\n",
       "      <td>Brastemp</td>\n",
       "      <td>SP8821</td>\n",
       "      <td>São Paulo</td>\n",
       "      <td>São Paulo</td>\n",
       "      <td>Josias Silva</td>\n",
       "      <td>1006</td>\n",
       "      <td>2012-01-01</td>\n",
       "      <td>832.00</td>\n",
       "    </tr>\n",
       "    <tr>\n",
       "      <th>2</th>\n",
       "      <td>SKU-0000003</td>\n",
       "      <td>Lavadora 11 Kg</td>\n",
       "      <td>Eletrodomésticos</td>\n",
       "      <td>Doméstico</td>\n",
       "      <td>Brastemp</td>\n",
       "      <td>SP8821</td>\n",
       "      <td>São Paulo</td>\n",
       "      <td>São Paulo</td>\n",
       "      <td>Josias Silva</td>\n",
       "      <td>1006</td>\n",
       "      <td>2012-02-02</td>\n",
       "      <td>790.00</td>\n",
       "    </tr>\n",
       "    <tr>\n",
       "      <th>3</th>\n",
       "      <td>SKU-0000004</td>\n",
       "      <td>Lavadora 11 Kg</td>\n",
       "      <td>Eletrodomésticos</td>\n",
       "      <td>Doméstico</td>\n",
       "      <td>Brastemp</td>\n",
       "      <td>SP8821</td>\n",
       "      <td>São Paulo</td>\n",
       "      <td>São Paulo</td>\n",
       "      <td>Mateus Gonçalves</td>\n",
       "      <td>1003</td>\n",
       "      <td>2012-03-03</td>\n",
       "      <td>765.32</td>\n",
       "    </tr>\n",
       "    <tr>\n",
       "      <th>4</th>\n",
       "      <td>SKU-0000005</td>\n",
       "      <td>Lavadora 11 Kg</td>\n",
       "      <td>Eletrodomésticos</td>\n",
       "      <td>Doméstico</td>\n",
       "      <td>Electrolux</td>\n",
       "      <td>SP8821</td>\n",
       "      <td>São Paulo</td>\n",
       "      <td>São Paulo</td>\n",
       "      <td>Artur Moreira</td>\n",
       "      <td>1004</td>\n",
       "      <td>2012-04-04</td>\n",
       "      <td>459.89</td>\n",
       "    </tr>\n",
       "  </tbody>\n",
       "</table>\n",
       "</div>"
      ],
      "text/plain": [
       "    ID-Produto           Produto         Categoria     Segmento  Fabricante  \\\n",
       "0  SKU-0000001   LG K10 TV Power         Celulares  Corporativo          LG   \n",
       "1  SKU-0000002  Geladeira Duplex  Eletrodomésticos    Doméstico    Brastemp   \n",
       "2  SKU-0000003    Lavadora 11 Kg  Eletrodomésticos    Doméstico    Brastemp   \n",
       "3  SKU-0000004    Lavadora 11 Kg  Eletrodomésticos    Doméstico    Brastemp   \n",
       "4  SKU-0000005    Lavadora 11 Kg  Eletrodomésticos    Doméstico  Electrolux   \n",
       "\n",
       "     Loja     Cidade     Estado          Vendedor  ID-Vendedor Data Venda  \\\n",
       "0  SP8821  São Paulo  São Paulo      Ana Teixeira         1009 2012-10-04   \n",
       "1  SP8821  São Paulo  São Paulo      Josias Silva         1006 2012-01-01   \n",
       "2  SP8821  São Paulo  São Paulo      Josias Silva         1006 2012-02-02   \n",
       "3  SP8821  São Paulo  São Paulo  Mateus Gonçalves         1003 2012-03-03   \n",
       "4  SP8821  São Paulo  São Paulo     Artur Moreira         1004 2012-04-04   \n",
       "\n",
       "   ValorVenda  \n",
       "0      679.00  \n",
       "1      832.00  \n",
       "2      790.00  \n",
       "3      765.32  \n",
       "4      459.89  "
      ]
     },
     "execution_count": 9,
     "metadata": {},
     "output_type": "execute_result"
    }
   ],
   "source": [
    "# Criando a tabela fato em função do dataframe original\n",
    "\n",
    "tbl_fato = df.loc[:,['ID-Produto', 'Loja', 'ID-Vendedor','Data Venda','ValorVenda']]\n",
    "\n",
    "tbl_fato = tbl_fato.rename(columns={'Loja':'ID-Loja'})\n",
    "\n"
   ]
  }
 ],
 "metadata": {
  "kernelspec": {
   "display_name": "Python 3",
   "language": "python",
   "name": "python3"
  },
  "language_info": {
   "codemirror_mode": {
    "name": "ipython",
    "version": 3
   },
   "file_extension": ".py",
   "mimetype": "text/x-python",
   "name": "python",
   "nbconvert_exporter": "python",
   "pygments_lexer": "ipython3",
   "version": "3.11.0"
  }
 },
 "nbformat": 4,
 "nbformat_minor": 2
}
