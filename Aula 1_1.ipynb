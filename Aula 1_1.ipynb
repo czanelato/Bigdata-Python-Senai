{
 "cells": [
  {
   "cell_type": "code",
   "execution_count": 6,
   "metadata": {},
   "outputs": [
    {
     "name": "stdout",
     "output_type": "stream",
     "text": [
      "15\n"
     ]
    }
   ],
   "source": [
    "# criando as variaveis e atribuindo valores a ela\n",
    "num1 = 10\n",
    "num2 = 5\n",
    "\n",
    "# somando os valores das 3 variaveis criadas\n",
    "soma = num1 + num2\n",
    "\n",
    "print(soma)"
   ]
  },
  {
   "cell_type": "markdown",
   "metadata": {},
   "source": [
    "# EXERCICIO 10\n",
    "\n",
    "Faça um Programa que converta metros para centímetros"
   ]
  },
  {
   "cell_type": "code",
   "execution_count": 15,
   "metadata": {},
   "outputs": [
    {
     "name": "stdout",
     "output_type": "stream",
     "text": [
      "2000.0\n"
     ]
    }
   ],
   "source": [
    "metros = input (\"digite um valor em metros\")\n",
    "\n",
    "metros = float (metros)\n",
    "\n",
    "centimetros = metros * 100\n",
    "\n",
    "type(metros)\n",
    "\n",
    "print(centimetros)"
   ]
  },
  {
   "cell_type": "markdown",
   "metadata": {},
   "source": [
    "# EXERCICIO 11\n",
    "\n",
    "Faça um Programa que peça o raio de um círculo, calcule e mostre sua\n",
    "área."
   ]
  },
  {
   "cell_type": "code",
   "execution_count": 22,
   "metadata": {},
   "outputs": [
    {
     "name": "stdout",
     "output_type": "stream",
     "text": [
      "o valor da area do circulo é (3, 1400.0) m\n"
     ]
    }
   ],
   "source": [
    "raio = input (\"informe o valor do raio do circulo\")\n",
    "\n",
    "raio = float (raio)\n",
    "            \n",
    "area = 3,14 * raio ** 2\n",
    "\n",
    "print(f\"o valor da area do circulo é {area} m\")"
   ]
  },
  {
   "cell_type": "markdown",
   "metadata": {},
   "source": [
    "# EXERCICIO 12\n",
    "\n",
    "Faça um Programa que calcule a área de um quadrado, em seguida\n",
    "mostre o dobro desta área para o usuário."
   ]
  },
  {
   "cell_type": "code",
   "execution_count": 23,
   "metadata": {},
   "outputs": [
    {
     "name": "stdout",
     "output_type": "stream",
     "text": [
      "o valor da area do quadrado é 100.0 m\n"
     ]
    }
   ],
   "source": [
    "lado = input ('informe o valor do lado em m')\n",
    "\n",
    "lado = float (lado)\n",
    "\n",
    "area = lado ** 2\n",
    "\n",
    "print (f\"o valor da area do quadrado é {area} m\")"
   ]
  },
  {
   "cell_type": "code",
   "execution_count": 24,
   "metadata": {},
   "outputs": [
    {
     "data": {
      "text/plain": [
       "3.141592653589793"
      ]
     },
     "execution_count": 24,
     "metadata": {},
     "output_type": "execute_result"
    }
   ],
   "source": [
    "#CARREGAR A BIBLIOTECA PARA UTILIZAR O VALOR DE PI COMPLETO\n",
    "import numpy as np\n",
    "\n",
    "np.pi"
   ]
  },
  {
   "cell_type": "markdown",
   "metadata": {},
   "source": [
    "# EXERCICIO 13\n",
    "\n",
    "Faça um Programa que pergunte quanto você ganha por hora e o número\n",
    "de horas trabalhadas no mês. Calcule e mostre o total do seu salário no referido mês."
   ]
  },
  {
   "cell_type": "code",
   "execution_count": null,
   "metadata": {},
   "outputs": [],
   "source": []
  }
 ],
 "metadata": {
  "kernelspec": {
   "display_name": "Python 3",
   "language": "python",
   "name": "python3"
  },
  "language_info": {
   "codemirror_mode": {
    "name": "ipython",
    "version": 3
   },
   "file_extension": ".py",
   "mimetype": "text/x-python",
   "name": "python",
   "nbconvert_exporter": "python",
   "pygments_lexer": "ipython3",
   "version": "3.11.0"
  }
 },
 "nbformat": 4,
 "nbformat_minor": 2
}
