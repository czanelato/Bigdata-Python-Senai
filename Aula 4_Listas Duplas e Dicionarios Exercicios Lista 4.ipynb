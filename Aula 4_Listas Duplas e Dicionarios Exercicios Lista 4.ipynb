{
 "cells": [
  {
   "cell_type": "markdown",
   "metadata": {},
   "source": [
    "# Exercicio 1\n",
    "\n",
    "Crie uma lista com nomes de 4 times de futebol.\n",
    "\n",
    "a) Palmeiras\n",
    "b) São Paulo\n",
    "c) Santos\n",
    "d) Água Santa\n",
    "e) Acesse o time que está na 3a posição.\n",
    "f) Crie uma lista com duas listas de 3 times de futebol, cada uma de uma\n",
    "divisão diferente."
   ]
  },
  {
   "cell_type": "code",
   "execution_count": 4,
   "metadata": {},
   "outputs": [
    {
     "name": "stdout",
     "output_type": "stream",
     "text": [
      "Santos\n"
     ]
    }
   ],
   "source": [
    "times = [\"Palmeiras\", \"São Paulo\", \"Santos\", \"Água Santa\"]\n",
    "\n",
    "print(times[2])\n",
    "\n"
   ]
  },
  {
   "cell_type": "markdown",
   "metadata": {},
   "source": [
    "f) Crie uma lista com duas listas de 3 times de futebol, cada uma de uma\n",
    "divisão diferente."
   ]
  },
  {
   "cell_type": "code",
   "execution_count": 5,
   "metadata": {},
   "outputs": [
    {
     "name": "stdout",
     "output_type": "stream",
     "text": [
      "[['São Caetano', 'Palmeiras', 'Coritiba', 'Sport'], ['Corintinhas', 'Atlético MG', 'Santos', 'São Paulo']]\n"
     ]
    }
   ],
   "source": [
    "timesA = [\"São Caetano\", \"Palmeiras\", \"Coritiba\", \"Sport\"]\n",
    "timesB = [\"Corintinhas\", \"Atlético MG\", \"Santos\", \"São Paulo\"]\n",
    "\n",
    "lista_times = [timesA, timesB]\n",
    "\n",
    "print(lista_times)"
   ]
  },
  {
   "cell_type": "code",
   "execution_count": 6,
   "metadata": {},
   "outputs": [
    {
     "data": {
      "text/plain": [
       "'Santos'"
      ]
     },
     "execution_count": 6,
     "metadata": {},
     "output_type": "execute_result"
    }
   ],
   "source": [
    "lista_times[1][2]"
   ]
  },
  {
   "cell_type": "markdown",
   "metadata": {},
   "source": [
    "# Exercicio 2\n",
    "\n",
    "Crie uma lista com 3 diferentes moedas. Acrescente mais 2\n",
    "outras moedas à essa mesma lista."
   ]
  },
  {
   "cell_type": "code",
   "execution_count": 54,
   "metadata": {},
   "outputs": [
    {
     "data": {
      "text/plain": [
       "['Real', 'Dolar', 'Euro', 'Libra', 'Peso']"
      ]
     },
     "execution_count": 54,
     "metadata": {},
     "output_type": "execute_result"
    }
   ],
   "source": [
    "moedas = [\"Real\", \"Dolar\", \"Euro\"]\n",
    "\n",
    "moedas.append(\"Libra\")\n",
    "moedas.append(\"Peso\")\n",
    "\n",
    "moedas"
   ]
  },
  {
   "cell_type": "code",
   "execution_count": 55,
   "metadata": {},
   "outputs": [
    {
     "data": {
      "text/plain": [
       "['Real', 'Dolar', 'Euro', 'Libra', 'Peso', 'Libra', 'Peso']"
      ]
     },
     "execution_count": 55,
     "metadata": {},
     "output_type": "execute_result"
    }
   ],
   "source": [
    "#Adicionando elementos ao final da lista\n",
    "\n",
    "moedas.append(\"Libra\")\n",
    "moedas.append(\"Peso\")\n",
    "\n",
    "moedas"
   ]
  },
  {
   "cell_type": "code",
   "execution_count": 56,
   "metadata": {},
   "outputs": [
    {
     "data": {
      "text/plain": [
       "['Real', 'CRUZEIRO', 'Dolar', 'Euro', 'Libra', 'Peso', 'Libra', 'Peso']"
      ]
     },
     "execution_count": 56,
     "metadata": {},
     "output_type": "execute_result"
    }
   ],
   "source": [
    "#Adicionar um elemento a posição 1 da lista\n",
    "\n",
    "moedas.insert(1,\"CRUZEIRO\")\n",
    "moedas"
   ]
  },
  {
   "cell_type": "code",
   "execution_count": 57,
   "metadata": {},
   "outputs": [
    {
     "data": {
      "text/plain": [
       "['Real', 'Dolar', 'Euro', 'Libra', 'Peso', 'Libra', 'Peso']"
      ]
     },
     "execution_count": 57,
     "metadata": {},
     "output_type": "execute_result"
    }
   ],
   "source": [
    "#Excluir um elemento\n",
    "\n",
    "moedas.remove(\"CRUZEIRO\")\n",
    "moedas"
   ]
  },
  {
   "cell_type": "markdown",
   "metadata": {},
   "source": [
    "#Exercicio 3\n",
    "\n",
    "Crie uma string com a lista do exercício anterior."
   ]
  },
  {
   "cell_type": "code",
   "execution_count": 58,
   "metadata": {},
   "outputs": [
    {
     "name": "stdout",
     "output_type": "stream",
     "text": [
      "Real;Dolar;Euro;Libra;Peso;Libra;Peso\n",
      "<class 'str'>\n"
     ]
    }
   ],
   "source": [
    "moedasA = ';'.join(moedas)\n",
    "\n",
    "print(moedasA)\n",
    "print(type(moedasA))\n"
   ]
  },
  {
   "cell_type": "markdown",
   "metadata": {},
   "source": [
    "#Exercicio 4\n",
    "\n",
    "Agora utilize a string do exercício 6 para recriar uma lista."
   ]
  },
  {
   "cell_type": "code",
   "execution_count": 59,
   "metadata": {},
   "outputs": [
    {
     "name": "stdout",
     "output_type": "stream",
     "text": [
      "Real;Dolar;Euro;Libra;Peso;Libra;Peso\n",
      "<class 'list'>\n"
     ]
    }
   ],
   "source": [
    "moedasB = moedasA.split(\";\")\n",
    "\n",
    "print(moedasA)\n",
    "print(type(moedasB))"
   ]
  },
  {
   "cell_type": "markdown",
   "metadata": {},
   "source": [
    "#Exercicio 5\n",
    "\n",
    "Crie um dicionário chamado cardápio em que as chaves são os\n",
    "dias da semana e os respectivos valores sejam os pratos do dia."
   ]
  },
  {
   "cell_type": "code",
   "execution_count": null,
   "metadata": {},
   "outputs": [],
   "source": [
    "Cardapio = {\n",
    "    'seg':['Vatapa','Sororo', 'Sarapatel']\n",
    "    'ter':['macarronada', 'virado', 'Galinhada']\n",
    "    'qua':['Feijoada', 'Paste', 'fígado']\n",
    "\n",
    "}\n",
    "\n"
   ]
  }
 ],
 "metadata": {
  "kernelspec": {
   "display_name": "Python 3",
   "language": "python",
   "name": "python3"
  },
  "language_info": {
   "codemirror_mode": {
    "name": "ipython",
    "version": 3
   },
   "file_extension": ".py",
   "mimetype": "text/x-python",
   "name": "python",
   "nbconvert_exporter": "python",
   "pygments_lexer": "ipython3",
   "version": "3.11.0"
  }
 },
 "nbformat": 4,
 "nbformat_minor": 2
}
