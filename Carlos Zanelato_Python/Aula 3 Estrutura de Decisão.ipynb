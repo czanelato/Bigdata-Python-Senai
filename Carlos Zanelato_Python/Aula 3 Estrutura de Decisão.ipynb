{
 "cells": [
  {
   "cell_type": "markdown",
   "metadata": {},
   "source": [
    "# ESTRUTURA DE DECISÃO\n",
    "\n",
    "## EXERCICIO 1\n",
    "\n",
    "Crie uma variável chamada \"idade\" e atribua um valor inteiro a ela.\n",
    "Verifique se a idade é maior ou igual a 18 e imprima \"Maior de idade\" ou \"Menor de\n",
    "idade\" de acordo com a condição."
   ]
  },
  {
   "cell_type": "code",
   "execution_count": null,
   "metadata": {},
   "outputs": [
    {
     "name": "stdout",
     "output_type": "stream",
     "text": [
      "Maior de idade\n"
     ]
    }
   ],
   "source": [
    "idade = int(input('Digite sua idade'))\n",
    "\n",
    "if idade >= 18:\n",
    "    print('Maior de idade')\n",
    "else:\n",
    "    print('Menor de idade')"
   ]
  },
  {
   "cell_type": "markdown",
   "metadata": {},
   "source": [
    "# EXERCICIO 2\n",
    "\n",
    "Crie uma variável chamada \"número\" e atribua um valor inteiro a ela.\n",
    "Verifique se o número é positivo, negativo ou zero e imprima a mensagem\n",
    "correspondente."
   ]
  },
  {
   "cell_type": "code",
   "execution_count": null,
   "metadata": {},
   "outputs": [
    {
     "name": "stdout",
     "output_type": "stream",
     "text": [
      "Negativo\n"
     ]
    }
   ],
   "source": [
    "numero = int(input('Digite um valor'))\n",
    "\n",
    "if numero > 0:\n",
    "    print('Positivo')\n",
    "\n",
    "elif numero == 0:\n",
    "    print('Igual a Zero')\n",
    "\n",
    "else:\n",
    "    print('Negativo')"
   ]
  },
  {
   "cell_type": "markdown",
   "metadata": {},
   "source": [
    "# EXERCICIO 3\n",
    "\n",
    "Crie duas variáveis, \"nota1\" e \"nota2\", e atribua valores numéricos a elas.\n",
    "Verifique se a média das notas é maior ou igual a 7 e imprima \"Aprovado\" ou\n",
    "\"Reprovado\" de acordo com a condição."
   ]
  },
  {
   "cell_type": "code",
   "execution_count": 4,
   "metadata": {},
   "outputs": [
    {
     "name": "stdout",
     "output_type": "stream",
     "text": [
      "Reprovado\n"
     ]
    }
   ],
   "source": [
    "nota1 = float(input('Digite a primeira nota'))\n",
    "\n",
    "nota2 = float(input('Digite a segunda nota'))\n",
    "\n",
    "média = (nota1 + nota2)/2\n",
    "\n",
    "\n",
    "\n",
    "if média > 7:\n",
    "    print('Aprovado')\n",
    "\n",
    "else:\n",
    "    print('Reprovado')"
   ]
  },
  {
   "cell_type": "markdown",
   "metadata": {},
   "source": [
    "# EXERCICIO 4\n",
    "\n",
    "Crie uma variável chamada \"idade\" e atribua um valor inteiro a ela.\n",
    "Verifique se a idade está dentro do intervalo de 18 a 30 (inclusive) e imprima a\n",
    "mensagem \"Idade válida\" ou \"Idade inválida\" de acordo com a condição."
   ]
  },
  {
   "cell_type": "code",
   "execution_count": 5,
   "metadata": {},
   "outputs": [
    {
     "name": "stdout",
     "output_type": "stream",
     "text": [
      "Idade Inválida\n"
     ]
    }
   ],
   "source": [
    "idade = int(input('Digite a idade'))\n",
    "\n",
    "if idade >= 18 and idade <= 30:\n",
    "    print('Idade Válida')\n",
    "\n",
    "else:\n",
    "    print('Idade Inválida')"
   ]
  },
  {
   "cell_type": "markdown",
   "metadata": {},
   "source": [
    "# EXERCICIO 5\n",
    "\n",
    "Crie uma variável chamada \"numero\" e atribua um valor inteiro a ela.\n",
    "Verifique se o número é par ou ímpar e imprima a mensagem correspondente."
   ]
  },
  {
   "cell_type": "code",
   "execution_count": 6,
   "metadata": {},
   "outputs": [
    {
     "name": "stdout",
     "output_type": "stream",
     "text": [
      "Impar\n"
     ]
    }
   ],
   "source": [
    "numero = int(input('Digite um valor'))\n",
    "\n",
    "sobra = numero%2\n",
    "\n",
    "if sobra == 0:\n",
    "    print('Par')\n",
    "\n",
    "else:\n",
    "    print('Impar')"
   ]
  },
  {
   "cell_type": "markdown",
   "metadata": {},
   "source": [
    "# EXERCICIO 6\n",
    "\n",
    "Crie uma variável chamada \"horario\" e atribua um valor inteiro\n",
    "representando a hora do dia (em formato 24 horas). Verifique se o horário está dentro\n",
    "do período da manhã (das 6h às 12h), da tarde (das 12h às 18h) ou da noite (das 18h\n",
    "às 23h) e imprima a mensagem correspondente."
   ]
  },
  {
   "cell_type": "code",
   "execution_count": 19,
   "metadata": {},
   "outputs": [
    {
     "name": "stdout",
     "output_type": "stream",
     "text": [
      "Noite\n"
     ]
    }
   ],
   "source": [
    "horario = int(input('Digite uma hora'))\n",
    "\n",
    "if horario >= 6 and horario < 12:\n",
    "   print('Manhã')\n",
    "\n",
    "elif horario >= 12 and horario < 18:\n",
    "    print('Tarde')\n",
    "\n",
    "else:\n",
    "    print('Noite')"
   ]
  },
  {
   "cell_type": "markdown",
   "metadata": {},
   "source": [
    "# EXERCICIO 7\n",
    "\n",
    "Crie uma variável chamada \"peso\" e atribua um valor numérico a ela.\n",
    "Verifique se o peso está dentro do intervalo de 50 a 100 (inclusive) e imprima a\n",
    "mensagem \"Peso válido\" ou \"Peso inválido\" de acordo com a condição."
   ]
  },
  {
   "cell_type": "code",
   "execution_count": 12,
   "metadata": {},
   "outputs": [
    {
     "name": "stdout",
     "output_type": "stream",
     "text": [
      "Peso Inválido\n"
     ]
    }
   ],
   "source": [
    "peso = float(input('Digite o peso de um produto'))\n",
    "\n",
    "if peso >= 50 and peso <= 100:\n",
    "   print('Peso Válido')\n",
    "\n",
    "else:\n",
    "    print('Peso Inválido')"
   ]
  },
  {
   "cell_type": "markdown",
   "metadata": {},
   "source": [
    "# EXERCICIO 8\n",
    "\n",
    "Crie uma variável chamada \"numero\" e atribua um valor inteiro a ela.\n",
    "Verifique se o número é múltiplo de 3 e de 5 ao mesmo tempo e imprima a mensagem\n",
    "correspondente."
   ]
  },
  {
   "cell_type": "code",
   "execution_count": 24,
   "metadata": {},
   "outputs": [
    {
     "name": "stdout",
     "output_type": "stream",
     "text": [
      "Inválido\n"
     ]
    }
   ],
   "source": [
    "numero = int(input('Digite um valor'))\n",
    "\n",
    "if numero%3 == 0 and numero%5 == 0:\n",
    "    print('Válido')\n",
    "\n",
    "else:\n",
    "    print('Inválido')"
   ]
  },
  {
   "cell_type": "markdown",
   "metadata": {},
   "source": [
    "# EXERCICIO 9\n",
    "\n",
    "Crie uma variável chamada \"ano\" e atribua um valor inteiro\n",
    "representando um ano. Verifique se o ano é bissexto (divisível por 4, mas não por 100,\n",
    "exceto se for divisível por 400) e imprima a mensagem correspondente."
   ]
  },
  {
   "cell_type": "code",
   "execution_count": 30,
   "metadata": {},
   "outputs": [
    {
     "name": "stdout",
     "output_type": "stream",
     "text": [
      "Bissexto\n"
     ]
    }
   ],
   "source": [
    "ano = int(input('Digite um valor'))\n",
    "\n",
    "if (ano%4 == 0 and ano%100 !=0) or ano%400 == 0:\n",
    "    print('Bissexto')\n",
    "\n",
    "else:\n",
    "    print('Não é bissexto')"
   ]
  },
  {
   "cell_type": "markdown",
   "metadata": {},
   "source": [
    "# EXERCICIO 10\n",
    "\n",
    "Crie uma variável chamada \"salario\" e atribua um valor numérico a ela.\n",
    "Verifique se o salário é maior do que 1000 e menor do que 2000 ao mesmo tempo e\n",
    "imprima a mensagem correspondente.\n"
   ]
  },
  {
   "cell_type": "code",
   "execution_count": 25,
   "metadata": {},
   "outputs": [
    {
     "name": "stdout",
     "output_type": "stream",
     "text": [
      "Maior\n"
     ]
    }
   ],
   "source": [
    "salario = int(input('Digite o valor do salário'))\n",
    "\n",
    "if salario > 1000 or salario < 2000:\n",
    "    print('Maior')\n",
    "\n",
    "elif salario < 2000:\n",
    "    print('Menor')"
   ]
  },
  {
   "cell_type": "markdown",
   "metadata": {},
   "source": [
    "# EXERCICIO 11\n",
    "\n",
    "Faça um Programa que peça dois números e imprima o maior deles."
   ]
  },
  {
   "cell_type": "code",
   "execution_count": 40,
   "metadata": {},
   "outputs": [
    {
     "name": "stdout",
     "output_type": "stream",
     "text": [
      "Valor 1\n"
     ]
    }
   ],
   "source": [
    "valor1 = float(input('Digite o primeiro valor'))\n",
    "\n",
    "valor2 = float(input('Digite o segundo valor'))\n",
    "\n",
    "if valor1 > valor2:\n",
    "    print('Valor 1')\n",
    "\n",
    "elif valor2 > valor1:\n",
    "    print('Valor 2')"
   ]
  },
  {
   "cell_type": "markdown",
   "metadata": {},
   "source": [
    "# EXERCICIO 12\n",
    "\n",
    "Faça um Programa que peça um valor e mostre na tela se o valor é\n",
    "positivo ou negativo."
   ]
  },
  {
   "cell_type": "code",
   "execution_count": 42,
   "metadata": {},
   "outputs": [
    {
     "name": "stdout",
     "output_type": "stream",
     "text": [
      "Negativo\n"
     ]
    }
   ],
   "source": [
    "valor = float(input('Digite um valor'))\n",
    "\n",
    "if valor > 0:\n",
    "    print('Positivo')\n",
    "\n",
    "elif valor < 0:\n",
    "    print('Negativo')"
   ]
  },
  {
   "cell_type": "markdown",
   "metadata": {},
   "source": [
    "# EXERCICIO 13\n",
    "\n",
    "Faça um Programa que verifique se uma letra digitada é \"F\" ou \"M\".\n",
    "Conforme a letra escrever: F - Feminino, M - Masculino, Sexo Inválido.\n"
   ]
  },
  {
   "cell_type": "code",
   "execution_count": null,
   "metadata": {},
   "outputs": [],
   "source": []
  },
  {
   "cell_type": "markdown",
   "metadata": {},
   "source": [
    "# EXERCICIO 14\n",
    "\n",
    "Faça um Programa que verifique se uma letra digitada é vogal ou\n",
    "consoante."
   ]
  },
  {
   "cell_type": "code",
   "execution_count": null,
   "metadata": {},
   "outputs": [],
   "source": []
  },
  {
   "cell_type": "markdown",
   "metadata": {},
   "source": [
    "# EXERCICIO 15\n",
    "\n",
    "Faça um programa para a leitura de duas notas parciais de um aluno. O\n",
    "programa deve calcular a média alcançada por aluno e apresentar:\n",
    "• A mensagem \"Aprovado\", se a média alcançada for maior ou igual a sete;\n",
    "• A mensagem \"Reprovado\", se a média for menor do que sete;\n",
    "• A mensagem \"Aprovado com Distinção\", se a média for igual a dez."
   ]
  },
  {
   "cell_type": "code",
   "execution_count": 37,
   "metadata": {},
   "outputs": [
    {
     "name": "stdout",
     "output_type": "stream",
     "text": [
      "Aprovado com Distinção\n"
     ]
    }
   ],
   "source": [
    "nota1 = float(input('Digite a primeira nota'))\n",
    "\n",
    "nota2 = float(input('Digite a segunda nota'))\n",
    "\n",
    "média = (nota1 + nota2)/2\n",
    "\n",
    "\n",
    "\n",
    "if média >= 7 and média < 10:\n",
    "    print('Aprovado')\n",
    "\n",
    "elif média < 7:\n",
    "    print('Reprovado')\n",
    "\n",
    "elif média == 10:\n",
    "    print('Aprovado com Distinção')"
   ]
  },
  {
   "cell_type": "markdown",
   "metadata": {},
   "source": [
    "# EXERCICIO 16\n",
    "\n",
    "Faça um Programa que leia três números e mostre o maior deles."
   ]
  },
  {
   "cell_type": "code",
   "execution_count": 38,
   "metadata": {},
   "outputs": [
    {
     "name": "stdout",
     "output_type": "stream",
     "text": [
      "Valor 3\n"
     ]
    }
   ],
   "source": [
    "valor1 = float(input('Digite o primeiro valor'))\n",
    "\n",
    "valor2 = float(input('Digite o segundo valor'))\n",
    "\n",
    "valor3 = float(input('Digite o terceiro valor'))\n",
    "\n",
    "if valor1 > valor2 and valor1 > valor3:\n",
    "    print('Valor 1')\n",
    "\n",
    "elif valor2 > valor1 and valor2 > valor3:\n",
    "    print('Valor 2')\n",
    "\n",
    "elif valor3 > valor1 and valor3 > valor2:\n",
    "    print('Valor 3')\n",
    "\n"
   ]
  },
  {
   "cell_type": "markdown",
   "metadata": {},
   "source": [
    "# EXERCICIO 17\n",
    "\n",
    "Faça um Programa que leia três números e mostre o maior e o menor\n",
    "deles."
   ]
  },
  {
   "cell_type": "code",
   "execution_count": null,
   "metadata": {},
   "outputs": [],
   "source": [
    "valor1 = float(input('Digite o primeiro valor'))\n",
    "\n",
    "valor2 = float(input('Digite o segundo valor'))\n",
    "\n",
    "valor3 = float(input('Digite o terceiro valor'))\n",
    "\n",
    "if valor1 > valor2 and valor1 > valor3 or valor1 < valor2 and valor1 < valor3:\n",
    "    print('Valor 1')\n",
    "\n",
    "elif valor2 > valor1 and valor2 > valor3 or valor2 < valor1 and valor2 < valor3:\n",
    "    print('Valor 2')\n",
    "\n",
    "elif valor3 > valor1 and valor3 > valor2 or valor3 :\n",
    "    print('Valor 3')"
   ]
  },
  {
   "cell_type": "markdown",
   "metadata": {},
   "source": [
    "# EXERCICIO 18\n",
    "\n",
    "Faça um programa que pergunte o preço de três produtos e informe qual\n",
    "produto você deve comprar, sabendo que a decisão é sempre pelo mais barato."
   ]
  },
  {
   "cell_type": "code",
   "execution_count": null,
   "metadata": {},
   "outputs": [],
   "source": [
    "preço1 = float(input('Digite o preço do primeiro produto'))\n",
    "\n",
    "preço2 = float(input('Digite o preço do segundo produto'))\n",
    "\n",
    "preço3 = float(input('Digite o preço do terceiro produto'))\n",
    "\n",
    "if preço1 > preço2 and preço1 > preço2 or valor1 < valor2 and valor1 < valor3:\n",
    "    print('Valor 1')\n",
    "\n",
    "elif valor2 > valor1 and valor2 > valor3 or valor2 < valor1 and valor2 < valor3:\n",
    "    print('Valor 2')\n",
    "\n",
    "elif valor3 > valor1 and valor3 > valor2 or valor3 :\n",
    "    print('Valor 3')"
   ]
  }
 ],
 "metadata": {
  "kernelspec": {
   "display_name": "Python 3",
   "language": "python",
   "name": "python3"
  },
  "language_info": {
   "codemirror_mode": {
    "name": "ipython",
    "version": 3
   },
   "file_extension": ".py",
   "mimetype": "text/x-python",
   "name": "python",
   "nbconvert_exporter": "python",
   "pygments_lexer": "ipython3",
   "version": "3.11.0"
  }
 },
 "nbformat": 4,
 "nbformat_minor": 2
}
