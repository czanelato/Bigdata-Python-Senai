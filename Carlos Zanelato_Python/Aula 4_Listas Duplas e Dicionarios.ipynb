{
 "cells": [
  {
   "cell_type": "markdown",
   "metadata": {},
   "source": [
    "Listas"
   ]
  },
  {
   "cell_type": "code",
   "execution_count": 1,
   "metadata": {},
   "outputs": [],
   "source": [
    "alunos = [\"Ana\", \"Amanda\", \"Bruno\", \"João\"]\n",
    "notas = [10, 9, 8, 7]"
   ]
  },
  {
   "cell_type": "markdown",
   "metadata": {},
   "source": [
    "# Exibir o primeiro nome da lista alunos\n",
    "alunos[0]\n",
    "\n",
    "# Exibir a terceira nota da lista notas\n",
    "notas[2]"
   ]
  },
  {
   "cell_type": "code",
   "execution_count": 3,
   "metadata": {},
   "outputs": [
    {
     "name": "stdout",
     "output_type": "stream",
     "text": [
      "Ana\n",
      "8\n"
     ]
    }
   ],
   "source": [
    "# Exibir o primeiro nome da lista alunos\n",
    "print(alunos[0])\n",
    "\n",
    "# Exibir a terceira nota da lista notas\n",
    "print(notas[2])"
   ]
  },
  {
   "cell_type": "code",
   "execution_count": 4,
   "metadata": {},
   "outputs": [
    {
     "data": {
      "text/plain": [
       "['Amanda', 'Bruno']"
      ]
     },
     "execution_count": 4,
     "metadata": {},
     "output_type": "execute_result"
    }
   ],
   "source": [
    "# Selecionar uma fatia dos dados (Amanda e Bruno)\n",
    "#lista[posição_inicial : posição_final +1]\n",
    "\n",
    "alunos[1:3]"
   ]
  },
  {
   "cell_type": "code",
   "execution_count": 5,
   "metadata": {},
   "outputs": [
    {
     "data": {
      "text/plain": [
       "['Bruno', 'João']"
      ]
     },
     "execution_count": 5,
     "metadata": {},
     "output_type": "execute_result"
    }
   ],
   "source": [
    "#Selecionar apenas os nomes Bruno e João\n",
    "\n",
    "alunos[2:]"
   ]
  },
  {
   "cell_type": "code",
   "execution_count": 6,
   "metadata": {},
   "outputs": [
    {
     "name": "stdout",
     "output_type": "stream",
     "text": [
      "<class 'list'>\n",
      "4\n"
     ]
    }
   ],
   "source": [
    "print(type(notas))\n",
    "\n",
    "print(len(notas))"
   ]
  },
  {
   "cell_type": "markdown",
   "metadata": {},
   "source": [
    "Lista (list) - Conversão para string\n",
    "\n",
    "Para converter uma lista em STRING, nós utilizamos o comando JOIN"
   ]
  },
  {
   "cell_type": "code",
   "execution_count": 7,
   "metadata": {},
   "outputs": [
    {
     "name": "stdout",
     "output_type": "stream",
     "text": [
      "Batata;Óleo;Margarina;Café\n",
      "<class 'str'>\n"
     ]
    }
   ],
   "source": [
    "supermercado = [\"Batata\", \"Óleo\", \"Margarina\", \"Café\"]\n",
    "\n",
    "listaConvertida = \";\".join(supermercado)\n",
    "\n",
    "print(listaConvertida)\n",
    "\n",
    "print(type(listaConvertida))"
   ]
  },
  {
   "cell_type": "markdown",
   "metadata": {},
   "source": [
    "# Convertendo STRING para LISTA"
   ]
  },
  {
   "cell_type": "code",
   "execution_count": 8,
   "metadata": {},
   "outputs": [
    {
     "name": "stdout",
     "output_type": "stream",
     "text": [
      "['Batata', 'Óleo', 'Margarina', 'Café']\n",
      "<class 'list'>\n"
     ]
    }
   ],
   "source": [
    "lista = listaConvertida.split(\";\")\n",
    "\n",
    "print(lista)\n",
    "print(type(lista))"
   ]
  },
  {
   "cell_type": "markdown",
   "metadata": {},
   "source": [
    "#Tuplas (Tuple)\n",
    "\n",
    "Criamos utilizando parênteses\n",
    "\n",
    "Separamos os elementos por vírgula\n",
    "\n",
    "Após sua definição, não podemos alterar sua estrutura"
   ]
  },
  {
   "cell_type": "code",
   "execution_count": 12,
   "metadata": {},
   "outputs": [
    {
     "name": "stdout",
     "output_type": "stream",
     "text": [
      "<class 'tuple'>\n",
      "<class 'tuple'>\n"
     ]
    }
   ],
   "source": [
    "valores = (90, 79, 54, 32, 21)\n",
    "pontos = (100, 94.05,86.08, 62)\n",
    "\n",
    "print(type(valores))\n",
    "\n",
    "print(type(pontos))"
   ]
  },
  {
   "cell_type": "markdown",
   "metadata": {},
   "source": [
    "Tuplas (tuple) - Outros exemplos"
   ]
  },
  {
   "cell_type": "code",
   "execution_count": 14,
   "metadata": {},
   "outputs": [
    {
     "name": "stdout",
     "output_type": "stream",
     "text": [
      "[10, 2]\n",
      "Não é possível modificar uma tupla\n"
     ]
    }
   ],
   "source": [
    "my_list = [1,2] # Criando uma lista\n",
    "\n",
    "my_tuple = (1,2) # Criando uma tupla\n",
    "\n",
    "# Alterando o elemento de posição 1 da lista\n",
    "my_list[0] = 10\n",
    "\n",
    "print(my_list)\n",
    "\n",
    "#Alterar um elemento de uma tupla\n",
    "\n",
    "try:\n",
    "\n",
    "    my_tuple[1]=3\n",
    "\n",
    "except TypeError:\n",
    "\n",
    "    print(\"Não é possível modificar uma tupla\")"
   ]
  },
  {
   "cell_type": "markdown",
   "metadata": {},
   "source": [
    "Criando uma função com tuplas"
   ]
  },
  {
   "cell_type": "code",
   "execution_count": 15,
   "metadata": {},
   "outputs": [],
   "source": [
    "def sum_and_product (x, y):\n",
    "\n",
    "    return (x + y), (x * y)"
   ]
  },
  {
   "cell_type": "code",
   "execution_count": 18,
   "metadata": {},
   "outputs": [
    {
     "data": {
      "text/plain": [
       "(15, 50)"
      ]
     },
     "execution_count": 18,
     "metadata": {},
     "output_type": "execute_result"
    }
   ],
   "source": [
    "sum_and_product(10,5)"
   ]
  },
  {
   "cell_type": "markdown",
   "metadata": {},
   "source": [
    "Dicionário (dict)\n",
    "\n",
    "Dict é um tipo de dado muito flexível do Python. Eles ão utilizados para agrupar elementos através da estrutura "
   ]
  },
  {
   "cell_type": "code",
   "execution_count": 23,
   "metadata": {},
   "outputs": [
    {
     "name": "stdout",
     "output_type": "stream",
     "text": [
      "<class 'dict'>\n",
      "<class 'dict'>\n"
     ]
    }
   ],
   "source": [
    "altura = {\"Amanda\":1.65,\n",
    "          \"Ana\":1.60,\n",
    "          \"João\":1.5\n",
    "          }\n",
    "\n",
    "peso = {\n",
    "    \"Amanda\":60,\n",
    "    \"Ana\":58,\n",
    "    \"João\":100\n",
    "\n",
    "}\n",
    "\n",
    "print(type(altura))\n",
    "print(type(peso))"
   ]
  },
  {
   "cell_type": "code",
   "execution_count": 26,
   "metadata": {},
   "outputs": [
    {
     "name": "stdout",
     "output_type": "stream",
     "text": [
      "1.6\n",
      "58\n"
     ]
    }
   ],
   "source": [
    "#Acessar informações do dicionário\n",
    "print(altura[\"Ana\"])\n",
    "print(peso[\"Ana\"])"
   ]
  }
 ],
 "metadata": {
  "kernelspec": {
   "display_name": "Python 3",
   "language": "python",
   "name": "python3"
  },
  "language_info": {
   "codemirror_mode": {
    "name": "ipython",
    "version": 3
   },
   "file_extension": ".py",
   "mimetype": "text/x-python",
   "name": "python",
   "nbconvert_exporter": "python",
   "pygments_lexer": "ipython3",
   "version": "3.11.0"
  }
 },
 "nbformat": 4,
 "nbformat_minor": 2
}
