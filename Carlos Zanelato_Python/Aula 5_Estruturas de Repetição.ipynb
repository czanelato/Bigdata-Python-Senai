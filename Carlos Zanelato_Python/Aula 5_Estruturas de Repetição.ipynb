{
 "cells": [
  {
   "cell_type": "markdown",
   "metadata": {},
   "source": [
    "LOOP FOR\n",
    "\n",
    "Estrutura de repetição FOR pode atuar sobre itens de qualquer tipo de sequencia (lista ou string) na ordem em que aparecem."
   ]
  },
  {
   "cell_type": "code",
   "execution_count": 2,
   "metadata": {},
   "outputs": [
    {
     "name": "stdout",
     "output_type": "stream",
     "text": [
      "Abacaxi\n",
      "Abacate\n",
      "Laranja\n"
     ]
    }
   ],
   "source": [
    "# FOR SIMPLES\n",
    "\n",
    "frutas = ['Abacaxi', 'Abacate', 'Laranja']\n",
    "\n",
    "for fruta in frutas:\n",
    "\n",
    "    print(fruta)"
   ]
  },
  {
   "cell_type": "markdown",
   "metadata": {},
   "source": [
    "FOR CONDICIONAL (FOR + IF)"
   ]
  },
  {
   "cell_type": "code",
   "execution_count": 3,
   "metadata": {},
   "outputs": [
    {
     "name": "stdout",
     "output_type": "stream",
     "text": [
      "abacaxi\n",
      "abacate\n"
     ]
    }
   ],
   "source": [
    "frutas = ['abacaxi', 'abacate', 'laranja']\n",
    "\n",
    "for fruta in frutas:\n",
    "\n",
    "    if fruta.startswith('a'):\n",
    "        print(fruta)"
   ]
  },
  {
   "cell_type": "markdown",
   "metadata": {},
   "source": [
    "FOR COM UMA VARIAVEL ACUMULADORA"
   ]
  },
  {
   "cell_type": "code",
   "execution_count": 8,
   "metadata": {},
   "outputs": [
    {
     "name": "stdout",
     "output_type": "stream",
     "text": [
      "55\n"
     ]
    }
   ],
   "source": [
    "listaNumeros = [1,2,3,4,5,6,7,8,9,10]\n",
    "\n",
    "soma = 0 # Variavel Acumuladora\n",
    "\n",
    "for numero in listaNumeros:\n",
    "\n",
    "    soma = soma + numero\n",
    "\n",
    "print(soma)"
   ]
  },
  {
   "cell_type": "markdown",
   "metadata": {},
   "source": [
    "LOOP WHILE\n",
    "\n",
    "A ESTRUTURA DE REPETIÇÃO WHILE É UTILIZADA QUANDO PRECISAMOS REPETIR UMA AÇÃO ALGUMAS VEZES OU FAZER UMA ITERAÇÃO ATÉ QUE UMA CONDIÇÃO SEJA SATISFEITA."
   ]
  },
  {
   "cell_type": "code",
   "execution_count": 9,
   "metadata": {},
   "outputs": [],
   "source": [
    "i = 1 #variavel de controle - evita o looping infinito\n",
    "soma = 0 #variavel acumuladora\n",
    "\n",
    "while i<= 10:\n",
    "    soma+=1\n",
    "    i +=1"
   ]
  }
 ],
 "metadata": {
  "kernelspec": {
   "display_name": "Python 3",
   "language": "python",
   "name": "python3"
  },
  "language_info": {
   "codemirror_mode": {
    "name": "ipython",
    "version": 3
   },
   "file_extension": ".py",
   "mimetype": "text/x-python",
   "name": "python",
   "nbconvert_exporter": "python",
   "pygments_lexer": "ipython3",
   "version": "3.11.0"
  }
 },
 "nbformat": 4,
 "nbformat_minor": 2
}
