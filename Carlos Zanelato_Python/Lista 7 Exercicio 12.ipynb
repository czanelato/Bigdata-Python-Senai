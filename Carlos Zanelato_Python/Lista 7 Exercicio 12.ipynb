{
 "cells": [
  {
   "cell_type": "markdown",
   "metadata": {},
   "source": [
    "# Exercício 12: Análise de Satisfação de Bancos\n",
    "Imagine que você foi contratado por uma instituição financeira de grande porte para analisar a satisfação dos clientes com os serviços prestados pela empresa. Como analistas de dados, sua missão é coletar, processar e analisar um grande volume de dados para obter insights valiosos sobre o que os clientes pensam sobre a empresa, suas necessidades e expectativas.\n",
    "Para começar, vamos coletar dados de diversas fontes, como pesquisas de satisfação, registros de atendimento ao cliente, feedbacks nas redes sociais e reclamações registradas em plataformas de avaliação de empresas. Com esses dados em mãos, podemos criar um banco de dados robusto e padronizado para análise."
   ]
  },
  {
   "cell_type": "code",
   "execution_count": 2,
   "metadata": {},
   "outputs": [
    {
     "data": {
      "text/html": [
       "<div>\n",
       "<style scoped>\n",
       "    .dataframe tbody tr th:only-of-type {\n",
       "        vertical-align: middle;\n",
       "    }\n",
       "\n",
       "    .dataframe tbody tr th {\n",
       "        vertical-align: top;\n",
       "    }\n",
       "\n",
       "    .dataframe thead th {\n",
       "        text-align: right;\n",
       "    }\n",
       "</style>\n",
       "<table border=\"1\" class=\"dataframe\">\n",
       "  <thead>\n",
       "    <tr style=\"text-align: right;\">\n",
       "      <th></th>\n",
       "      <th>Instituição</th>\n",
       "      <th>Comentario</th>\n",
       "      <th>Data</th>\n",
       "      <th>Classificação</th>\n",
       "      <th>Elogio quanto ao app</th>\n",
       "      <th>Reclamação quanto ao app</th>\n",
       "      <th>Elogio a Instituição</th>\n",
       "      <th>Reclamação a Instituição</th>\n",
       "      <th>Não Classificável</th>\n",
       "    </tr>\n",
       "  </thead>\n",
       "  <tbody>\n",
       "    <tr>\n",
       "      <th>0</th>\n",
       "      <td>Banco do Brasil</td>\n",
       "      <td>Muito bom ajuda muito</td>\n",
       "      <td>2019-07-21</td>\n",
       "      <td>5</td>\n",
       "      <td>SIM</td>\n",
       "      <td>NÃO</td>\n",
       "      <td>NÃO</td>\n",
       "      <td>NÃO</td>\n",
       "      <td>NÃO</td>\n",
       "    </tr>\n",
       "    <tr>\n",
       "      <th>1</th>\n",
       "      <td>Banco do Brasil</td>\n",
       "      <td>excelente</td>\n",
       "      <td>2019-07-21</td>\n",
       "      <td>5</td>\n",
       "      <td>SIM</td>\n",
       "      <td>NÃO</td>\n",
       "      <td>NÃO</td>\n",
       "      <td>NÃO</td>\n",
       "      <td>NÃO</td>\n",
       "    </tr>\n",
       "    <tr>\n",
       "      <th>2</th>\n",
       "      <td>Banco do Brasil</td>\n",
       "      <td>Bom</td>\n",
       "      <td>2019-07-21</td>\n",
       "      <td>5</td>\n",
       "      <td>SIM</td>\n",
       "      <td>NÃO</td>\n",
       "      <td>NÃO</td>\n",
       "      <td>NÃO</td>\n",
       "      <td>NÃO</td>\n",
       "    </tr>\n",
       "    <tr>\n",
       "      <th>3</th>\n",
       "      <td>Banco do Brasil</td>\n",
       "      <td>aplicativo muito top</td>\n",
       "      <td>2019-07-21</td>\n",
       "      <td>5</td>\n",
       "      <td>SIM</td>\n",
       "      <td>NÃO</td>\n",
       "      <td>NÃO</td>\n",
       "      <td>NÃO</td>\n",
       "      <td>NÃO</td>\n",
       "    </tr>\n",
       "    <tr>\n",
       "      <th>4</th>\n",
       "      <td>Banco do Brasil</td>\n",
       "      <td>Fácil e prático</td>\n",
       "      <td>2019-07-21</td>\n",
       "      <td>5</td>\n",
       "      <td>SIM</td>\n",
       "      <td>NÃO</td>\n",
       "      <td>NÃO</td>\n",
       "      <td>NÃO</td>\n",
       "      <td>NÃO</td>\n",
       "    </tr>\n",
       "  </tbody>\n",
       "</table>\n",
       "</div>"
      ],
      "text/plain": [
       "       Instituição             Comentario       Data  Classificação  \\\n",
       "0  Banco do Brasil  Muito bom ajuda muito 2019-07-21              5   \n",
       "1  Banco do Brasil              excelente 2019-07-21              5   \n",
       "2  Banco do Brasil                    Bom 2019-07-21              5   \n",
       "3  Banco do Brasil   aplicativo muito top 2019-07-21              5   \n",
       "4  Banco do Brasil        Fácil e prático 2019-07-21              5   \n",
       "\n",
       "  Elogio quanto ao app Reclamação quanto ao app Elogio a Instituição  \\\n",
       "0                  SIM                      NÃO                  NÃO   \n",
       "1                  SIM                      NÃO                  NÃO   \n",
       "2                  SIM                      NÃO                  NÃO   \n",
       "3                  SIM                      NÃO                  NÃO   \n",
       "4                  SIM                      NÃO                  NÃO   \n",
       "\n",
       "  Reclamação a Instituição Não Classificável  \n",
       "0                      NÃO               NÃO  \n",
       "1                      NÃO               NÃO  \n",
       "2                      NÃO               NÃO  \n",
       "3                      NÃO               NÃO  \n",
       "4                      NÃO               NÃO  "
      ]
     },
     "execution_count": 2,
     "metadata": {},
     "output_type": "execute_result"
    }
   ],
   "source": [
    "#Importação das Bibliotecas\n",
    "import pandas as pd\n",
    "import matplotlib.pyplot as plt\n",
    "import seaborn as sns\n",
    "\n",
    "# Mapear o caminho do arquivo e nome\n",
    "caminhoCompleto = \"C:\\\\Users\\\\FIC\\\\Documents\\\\Carlos Zanelato_Python\\\\Arquivos\\\\dados-satisfação.xlsx\"\n",
    "\n",
    "# Alocar as informações em um Dataframe\n",
    "dados = pd.read_excel(caminhoCompleto, sheet_name='treino')\n",
    "\n",
    "# Exibir o cabeçalho do Dataframe\n",
    "dados.head()\n"
   ]
  },
  {
   "cell_type": "code",
   "execution_count": 4,
   "metadata": {},
   "outputs": [
    {
     "data": {
      "text/html": [
       "<div>\n",
       "<style scoped>\n",
       "    .dataframe tbody tr th:only-of-type {\n",
       "        vertical-align: middle;\n",
       "    }\n",
       "\n",
       "    .dataframe tbody tr th {\n",
       "        vertical-align: top;\n",
       "    }\n",
       "\n",
       "    .dataframe thead th {\n",
       "        text-align: right;\n",
       "    }\n",
       "</style>\n",
       "<table border=\"1\" class=\"dataframe\">\n",
       "  <thead>\n",
       "    <tr style=\"text-align: right;\">\n",
       "      <th></th>\n",
       "      <th>Instituição</th>\n",
       "      <th>Comentario</th>\n",
       "      <th>Data</th>\n",
       "      <th>Classificação</th>\n",
       "      <th>Elogio quanto ao app</th>\n",
       "      <th>Reclamação quanto ao app</th>\n",
       "      <th>Elogio a Instituição</th>\n",
       "      <th>Reclamação a Instituição</th>\n",
       "      <th>Não Classificável</th>\n",
       "    </tr>\n",
       "  </thead>\n",
       "  <tbody>\n",
       "    <tr>\n",
       "      <th>0</th>\n",
       "      <td>Banco do Brasil</td>\n",
       "      <td>Muito bom ajuda muito</td>\n",
       "      <td>2019-07-21</td>\n",
       "      <td>5</td>\n",
       "      <td>1</td>\n",
       "      <td>0</td>\n",
       "      <td>0</td>\n",
       "      <td>0</td>\n",
       "      <td>0</td>\n",
       "    </tr>\n",
       "    <tr>\n",
       "      <th>1</th>\n",
       "      <td>Banco do Brasil</td>\n",
       "      <td>excelente</td>\n",
       "      <td>2019-07-21</td>\n",
       "      <td>5</td>\n",
       "      <td>1</td>\n",
       "      <td>0</td>\n",
       "      <td>0</td>\n",
       "      <td>0</td>\n",
       "      <td>0</td>\n",
       "    </tr>\n",
       "    <tr>\n",
       "      <th>2</th>\n",
       "      <td>Banco do Brasil</td>\n",
       "      <td>Bom</td>\n",
       "      <td>2019-07-21</td>\n",
       "      <td>5</td>\n",
       "      <td>1</td>\n",
       "      <td>0</td>\n",
       "      <td>0</td>\n",
       "      <td>0</td>\n",
       "      <td>0</td>\n",
       "    </tr>\n",
       "    <tr>\n",
       "      <th>3</th>\n",
       "      <td>Banco do Brasil</td>\n",
       "      <td>aplicativo muito top</td>\n",
       "      <td>2019-07-21</td>\n",
       "      <td>5</td>\n",
       "      <td>1</td>\n",
       "      <td>0</td>\n",
       "      <td>0</td>\n",
       "      <td>0</td>\n",
       "      <td>0</td>\n",
       "    </tr>\n",
       "    <tr>\n",
       "      <th>4</th>\n",
       "      <td>Banco do Brasil</td>\n",
       "      <td>Fácil e prático</td>\n",
       "      <td>2019-07-21</td>\n",
       "      <td>5</td>\n",
       "      <td>1</td>\n",
       "      <td>0</td>\n",
       "      <td>0</td>\n",
       "      <td>0</td>\n",
       "      <td>0</td>\n",
       "    </tr>\n",
       "  </tbody>\n",
       "</table>\n",
       "</div>"
      ],
      "text/plain": [
       "       Instituição             Comentario       Data  Classificação  \\\n",
       "0  Banco do Brasil  Muito bom ajuda muito 2019-07-21              5   \n",
       "1  Banco do Brasil              excelente 2019-07-21              5   \n",
       "2  Banco do Brasil                    Bom 2019-07-21              5   \n",
       "3  Banco do Brasil   aplicativo muito top 2019-07-21              5   \n",
       "4  Banco do Brasil        Fácil e prático 2019-07-21              5   \n",
       "\n",
       "   Elogio quanto ao app  Reclamação quanto ao app  Elogio a Instituição  \\\n",
       "0                     1                         0                     0   \n",
       "1                     1                         0                     0   \n",
       "2                     1                         0                     0   \n",
       "3                     1                         0                     0   \n",
       "4                     1                         0                     0   \n",
       "\n",
       "   Reclamação a Instituição  Não Classificável  \n",
       "0                         0                  0  \n",
       "1                         0                  0  \n",
       "2                         0                  0  \n",
       "3                         0                  0  \n",
       "4                         0                  0  "
      ]
     },
     "execution_count": 4,
     "metadata": {},
     "output_type": "execute_result"
    }
   ],
   "source": [
    "# Substituindo os dados\n",
    "dados['Elogio a Instituição'] = dados['Elogio a Instituição'].replace('SIM',1)\n",
    "dados['Elogio a Instituição'] = dados['Elogio a Instituição'].replace('NÃO',0)\n",
    "\n",
    "dados['Elogio quanto ao app'] = dados['Elogio quanto ao app'].replace('SIM',1)\n",
    "dados['Elogio quanto ao app'] = dados['Elogio quanto ao app'].replace('NÃO',0)\n",
    "dados['Elogio quanto ao app'] = dados['Elogio quanto ao app'].replace('NAO',0)\n",
    "\n",
    "dados['Reclamação quanto ao app'] = dados['Reclamação quanto ao app'].replace('NÃO',0)\n",
    "dados['Reclamação quanto ao app'] = dados['Reclamação quanto ao app'].replace('SIM',0)\n",
    "\n",
    "dados['Reclamação a Instituição'] = dados['Reclamação a Instituição'].replace('NÃO',0)\n",
    "dados['Reclamação a Instituição'] = dados['Reclamação a Instituição'].replace('SIM',0)\n",
    "\n",
    "dados['Não Classificável'] = dados['Não Classificável'].replace('NÃO',0)\n",
    "dados['Não Classificável'] = dados['Não Classificável'].replace('SIM',0)\n",
    "\n",
    "dados.head()"
   ]
  },
  {
   "cell_type": "code",
   "execution_count": 5,
   "metadata": {},
   "outputs": [
    {
     "data": {
      "text/plain": [
       "0     1\n",
       "13    0\n",
       "Name: Elogio quanto ao app, dtype: int64"
      ]
     },
     "execution_count": 5,
     "metadata": {},
     "output_type": "execute_result"
    }
   ],
   "source": [
    "dados['Elogio quanto ao app'].drop_duplicates()"
   ]
  },
  {
   "cell_type": "code",
   "execution_count": 6,
   "metadata": {},
   "outputs": [
    {
     "name": "stdout",
     "output_type": "stream",
     "text": [
      "<class 'pandas.core.frame.DataFrame'>\n",
      "RangeIndex: 8702 entries, 0 to 8701\n",
      "Data columns (total 9 columns):\n",
      " #   Column                    Non-Null Count  Dtype         \n",
      "---  ------                    --------------  -----         \n",
      " 0   Instituição               8702 non-null   object        \n",
      " 1   Comentario                8698 non-null   object        \n",
      " 2   Data                      8702 non-null   datetime64[ns]\n",
      " 3   Classificação             8702 non-null   int64         \n",
      " 4   Elogio quanto ao app      8702 non-null   int32         \n",
      " 5   Reclamação quanto ao app  8702 non-null   int64         \n",
      " 6   Elogio a Instituição      8702 non-null   int32         \n",
      " 7   Reclamação a Instituição  8702 non-null   int32         \n",
      " 8   Não Classificável         8702 non-null   int64         \n",
      "dtypes: datetime64[ns](1), int32(3), int64(3), object(2)\n",
      "memory usage: 510.0+ KB\n"
     ]
    }
   ],
   "source": [
    "# CONVERTER OS DADOS PARA NÚMEROS\n",
    "\n",
    "dados['Elogio a Instituição'] = dados['Elogio a Instituição'].astype(int)\n",
    "\n",
    "dados['Elogio quanto ao app'] = dados['Elogio quanto ao app'].astype(int)\n",
    "\n",
    "dados['Reclamação a Instituição'] = dados['Reclamação a Instituição'].astype(int)\n",
    "\n",
    "dados.info()\n",
    "\n"
   ]
  },
  {
   "cell_type": "code",
   "execution_count": 7,
   "metadata": {},
   "outputs": [
    {
     "data": {
      "text/html": [
       "<div>\n",
       "<style scoped>\n",
       "    .dataframe tbody tr th:only-of-type {\n",
       "        vertical-align: middle;\n",
       "    }\n",
       "\n",
       "    .dataframe tbody tr th {\n",
       "        vertical-align: top;\n",
       "    }\n",
       "\n",
       "    .dataframe thead th {\n",
       "        text-align: right;\n",
       "    }\n",
       "</style>\n",
       "<table border=\"1\" class=\"dataframe\">\n",
       "  <thead>\n",
       "    <tr style=\"text-align: right;\">\n",
       "      <th></th>\n",
       "      <th>Instituição</th>\n",
       "      <th>Comentario</th>\n",
       "      <th>Data</th>\n",
       "      <th>Classificação</th>\n",
       "      <th>Elogio quanto ao app</th>\n",
       "      <th>Reclamação quanto ao app</th>\n",
       "      <th>Elogio a Instituição</th>\n",
       "      <th>Reclamação a Instituição</th>\n",
       "      <th>Não Classificável</th>\n",
       "    </tr>\n",
       "  </thead>\n",
       "  <tbody>\n",
       "    <tr>\n",
       "      <th>0</th>\n",
       "      <td>Banco do Brasil</td>\n",
       "      <td>Muito bom ajuda muito</td>\n",
       "      <td>2019-07-21</td>\n",
       "      <td>1</td>\n",
       "      <td>1</td>\n",
       "      <td>0</td>\n",
       "      <td>0</td>\n",
       "      <td>0</td>\n",
       "      <td>0</td>\n",
       "    </tr>\n",
       "    <tr>\n",
       "      <th>1</th>\n",
       "      <td>Banco do Brasil</td>\n",
       "      <td>excelente</td>\n",
       "      <td>2019-07-21</td>\n",
       "      <td>1</td>\n",
       "      <td>1</td>\n",
       "      <td>0</td>\n",
       "      <td>0</td>\n",
       "      <td>0</td>\n",
       "      <td>0</td>\n",
       "    </tr>\n",
       "    <tr>\n",
       "      <th>2</th>\n",
       "      <td>Banco do Brasil</td>\n",
       "      <td>Bom</td>\n",
       "      <td>2019-07-21</td>\n",
       "      <td>1</td>\n",
       "      <td>1</td>\n",
       "      <td>0</td>\n",
       "      <td>0</td>\n",
       "      <td>0</td>\n",
       "      <td>0</td>\n",
       "    </tr>\n",
       "    <tr>\n",
       "      <th>3</th>\n",
       "      <td>Banco do Brasil</td>\n",
       "      <td>aplicativo muito top</td>\n",
       "      <td>2019-07-21</td>\n",
       "      <td>1</td>\n",
       "      <td>1</td>\n",
       "      <td>0</td>\n",
       "      <td>0</td>\n",
       "      <td>0</td>\n",
       "      <td>0</td>\n",
       "    </tr>\n",
       "    <tr>\n",
       "      <th>4</th>\n",
       "      <td>Banco do Brasil</td>\n",
       "      <td>Fácil e prático</td>\n",
       "      <td>2019-07-21</td>\n",
       "      <td>1</td>\n",
       "      <td>1</td>\n",
       "      <td>0</td>\n",
       "      <td>0</td>\n",
       "      <td>0</td>\n",
       "      <td>0</td>\n",
       "    </tr>\n",
       "  </tbody>\n",
       "</table>\n",
       "</div>"
      ],
      "text/plain": [
       "       Instituição             Comentario       Data  Classificação  \\\n",
       "0  Banco do Brasil  Muito bom ajuda muito 2019-07-21              1   \n",
       "1  Banco do Brasil              excelente 2019-07-21              1   \n",
       "2  Banco do Brasil                    Bom 2019-07-21              1   \n",
       "3  Banco do Brasil   aplicativo muito top 2019-07-21              1   \n",
       "4  Banco do Brasil        Fácil e prático 2019-07-21              1   \n",
       "\n",
       "   Elogio quanto ao app  Reclamação quanto ao app  Elogio a Instituição  \\\n",
       "0                     1                         0                     0   \n",
       "1                     1                         0                     0   \n",
       "2                     1                         0                     0   \n",
       "3                     1                         0                     0   \n",
       "4                     1                         0                     0   \n",
       "\n",
       "   Reclamação a Instituição  Não Classificável  \n",
       "0                         0                  0  \n",
       "1                         0                  0  \n",
       "2                         0                  0  \n",
       "3                         0                  0  \n",
       "4                         0                  0  "
      ]
     },
     "execution_count": 7,
     "metadata": {},
     "output_type": "execute_result"
    }
   ],
   "source": [
    "dados['Classificação'] = dados['Classificação'].replace(2,-1)\n",
    "dados['Classificação'] = dados['Classificação'].replace(1,-1)\n",
    "dados['Classificação'] = dados['Classificação'].replace(5,1)\n",
    "dados['Classificação'] = dados['Classificação'].replace(4,1)\n",
    "dados['Classificação'] = dados['Classificação'].replace(3,0)\n",
    "\n",
    "dados.head()"
   ]
  },
  {
   "cell_type": "code",
   "execution_count": 10,
   "metadata": {},
   "outputs": [],
   "source": [
    "# Calcular a média de classificação por instituição\n",
    "\n",
    "df_classificacao = dados.groupby(['Instituição'])['Classificação'].mean()\n",
    "df_classificacao = df_classificacao * 100"
   ]
  },
  {
   "cell_type": "code",
   "execution_count": 11,
   "metadata": {},
   "outputs": [
    {
     "data": {
      "text/plain": [
       "<Axes: xlabel='Instituição'>"
      ]
     },
     "execution_count": 11,
     "metadata": {},
     "output_type": "execute_result"
    },
    {
     "data": {
      "image/png": "[encoded data removed]",
      "text/plain": [
       "<Figure size 640x480 with 1 Axes>"
      ]
     },
     "metadata": {},
     "output_type": "display_data"
    }
   ],
   "source": [
    "instituicao = df_classificacao.index\n",
    "valores = df_classificacao.values\n",
    "\n",
    "\n",
    "sns.barplot(x = instituicao, y = valores, label = 'Satisfação')"
   ]
  },
  {
   "cell_type": "code",
   "execution_count": 13,
   "metadata": {},
   "outputs": [
    {
     "data": {
      "text/plain": [
       "Instituição\n",
       "Banco Bradesco             6823.664561\n",
       "Banco Itau                 5695.402299\n",
       "Banco do Brasil            7816.091954\n",
       "Caixa Econômica Federal    4241.379310\n",
       "Nubank                     5852.958070\n",
       "Name: Classificação, dtype: float64"
      ]
     },
     "execution_count": 13,
     "metadata": {},
     "output_type": "execute_result"
    }
   ],
   "source": [
    "# Calcular a média de classificação por Elogio quanto ao app\n",
    "\n",
    "df_classificacaoElogio = dados.groupby(['Elogio quanto ao app'])['Classificação'].mean()\n",
    "df_classificacao"
   ]
  },
  {
   "cell_type": "code",
   "execution_count": 14,
   "metadata": {},
   "outputs": [
    {
     "data": {
      "text/plain": [
       "<Axes: xlabel='Instituição'>"
      ]
     },
     "execution_count": 14,
     "metadata": {},
     "output_type": "execute_result"
    },
    {
     "data": {
      "image/png": "[encoded data removed]",
      "text/plain": [
       "<Figure size 640x480 with 1 Axes>"
      ]
     },
     "metadata": {},
     "output_type": "display_data"
    }
   ],
   "source": [
    "instituicao = df_classificacao.index\n",
    "valores = df_classificacao.values\n",
    "\n",
    "\n",
    "sns.barplot(x = instituicao, y = valores, label = 'Elogio quanto ao app')"
   ]
  }
 ],
 "metadata": {
  "kernelspec": {
   "display_name": "Python 3",
   "language": "python",
   "name": "python3"
  },
  "language_info": {
   "codemirror_mode": {
    "name": "ipython",
    "version": 3
   },
   "file_extension": ".py",
   "mimetype": "text/x-python",
   "name": "python",
   "nbconvert_exporter": "python",
   "pygments_lexer": "ipython3",
   "version": "3.11.0"
  }
 },
 "nbformat": 4,
 "nbformat_minor": 2
}
