{
 "cells": [
  {
   "cell_type": "markdown",
   "metadata": {},
   "source": [
    "# PALAVRAS RESERVADAS"
   ]
  },
  {
   "cell_type": "code",
   "execution_count": 2,
   "metadata": {},
   "outputs": [
    {
     "name": "stdout",
     "output_type": "stream",
     "text": [
      "['False', 'None', 'True', 'and', 'as', 'assert', 'async', 'await', 'break', 'class', 'continue', 'def', 'del', 'elif', 'else', 'except', 'finally', 'for', 'from', 'global', 'if', 'import', 'in', 'is', 'lambda', 'nonlocal', 'not', 'or', 'pass', 'raise', 'return', 'try', 'while', 'with', 'yield']\n"
     ]
    }
   ],
   "source": [
    "import keyword\n",
    "print(keyword.kwlist)"
   ]
  },
  {
   "cell_type": "markdown",
   "metadata": {},
   "source": [
    "# EXERCICIO 2\n",
    "\n",
    "Crie um programa para receber dois valores e em seguida, exiba o valor\n",
    "da diferença entre eles:"
   ]
  },
  {
   "cell_type": "code",
   "execution_count": 6,
   "metadata": {},
   "outputs": [
    {
     "name": "stdout",
     "output_type": "stream",
     "text": [
      "O resultado da subtracao é 5.\n"
     ]
    }
   ],
   "source": [
    "num1 = 10\n",
    "\n",
    "num2 = 5\n",
    "\n",
    "diferenca = num1 - num2\n",
    "\n",
    "# O comando print apresenta resultados no console\n",
    "print(f'O resultado da subtracao é {diferenca}.')"
   ]
  },
  {
   "cell_type": "markdown",
   "metadata": {},
   "source": []
  },
  {
   "cell_type": "markdown",
   "metadata": {},
   "source": [
    "# EXERCICIO 3\n",
    "\n",
    "Crie um programa para receber dois valores e em seguida, exiba o\n",
    "produto entre eles:"
   ]
  },
  {
   "cell_type": "code",
   "execution_count": 11,
   "metadata": {},
   "outputs": [
    {
     "name": "stdout",
     "output_type": "stream",
     "text": [
      "<class 'str'>\n",
      "<class 'str'>\n",
      "<class 'float'>\n",
      "<class 'float'>\n",
      "O resultado do produto é 5000.0.\n"
     ]
    }
   ],
   "source": [
    "# Inserindo dados de entrada com o comando PRINT\n",
    "num1 = input('Digite o primeiro valor')\n",
    "num2 = input('Digite o segundo valor')\n",
    "\n",
    "# Verificando o tipo de dado:\n",
    "print(type(num1))\n",
    "print(type(num2))\n",
    "\n",
    "# Convertendo os valores dos numeros\n",
    "num1 = float(num1)\n",
    "num2 = float(num2)\n",
    "\n",
    "# Verificando o tipo de dado:\n",
    "print(type(num1))\n",
    "print(type(num2))\n",
    "\n",
    "produto = num1 * num2\n",
    "\n",
    "print(f'O resultado do produto é {produto}.')"
   ]
  },
  {
   "cell_type": "markdown",
   "metadata": {},
   "source": []
  },
  {
   "cell_type": "markdown",
   "metadata": {},
   "source": [
    "# EXERCICIO 16\n",
    "\n",
    "Faça um Programa que peça 2 números inteiros e um número real.\n",
    "Calcule e mostre:\n",
    "\n",
    "a) o produto do dobro do primeiro com metade do segundo.\n",
    "b) a soma do triplo do primeiro com o terceiro.\n",
    "c) o terceiro elevado ao cubo.\n"
   ]
  },
  {
   "cell_type": "code",
   "execution_count": 13,
   "metadata": {},
   "outputs": [
    {
     "name": "stdout",
     "output_type": "stream",
     "text": [
      "Alternativa A. 500.0\n",
      "Alternativa B. 165\n",
      "Alternativa C. 3375\n"
     ]
    }
   ],
   "source": [
    "# RECEBENDO VALORES E CONVERTENDO\n",
    "\n",
    "valor1 = int(input('Digite o primeiro valor.'))\n",
    "valor2 = int(input('Digite o segundo valor.'))\n",
    "valor3 = int(input('Digite o terceiro valor.'))\n",
    "\n",
    "# CALCULANDO O PRODUTO DO DOBRO DO PRIMEIRO COM A METADO DO SEGUNDO\n",
    "\n",
    "questaoA = (valor1 * 2) * (valor2 / 2)\n",
    "print('Alternativa A.', questaoA)\n",
    "\n",
    "# CALCULANDO A SOMA DO TRIPLO DO PRIMEIRO COM O TERCEIRO\n",
    "\n",
    "questaoB = valor1 * 3 + valor3\n",
    "print('Alternativa B.', questaoB)\n",
    "\n",
    "# CALCULANDO O TERCEIRO ELEVADO AO CUBO\n",
    "\n",
    "questaoC = valor3 ** 3\n",
    "print('Alternativa C.', questaoC)"
   ]
  },
  {
   "cell_type": "markdown",
   "metadata": {},
   "source": [
    "# EXERCICIO 17\n",
    "\n",
    "João Papo-de-Pescador, homem de bem, comprou um microcomputador\n",
    "para controlar o rendimento diário de seu trabalho. Toda vez que ele traz um peso de\n",
    "peixes maior que o estabelecido pelo regulamento de pesca do estado de São Paulo\n",
    "(50 quilos) deve pagar uma multa de R$ 4,00 por quilo excedente. João precisa que\n",
    "você faça um programa que leia a variável peso (peso de peixes) e calcule o excesso.\n",
    "Gravar na variável excesso a quantidade de quilos além do limite e na variável multa o valor da multa que João deverá pagar.\n",
    "Imprima os dados do programa com as mensagens adequadas."
   ]
  },
  {
   "cell_type": "code",
   "execution_count": 14,
   "metadata": {},
   "outputs": [
    {
     "name": "stdout",
     "output_type": "stream",
     "text": [
      "O peso total é 51.0 kg, o excedente é de 1.0 kg, portanto a multa é R$4.0.\n"
     ]
    }
   ],
   "source": [
    "# Inserindo o valor do peso\n",
    "peso = float(input('Digite o valor pescado'))\n",
    "\n",
    "# Calculando o excesso\n",
    "limite = 50\n",
    "excesso = (peso - limite)\n",
    "\n",
    "#Calcular a multa\n",
    "valorPorKg = 4\n",
    "multa = excesso*valorPorKg\n",
    "\n",
    "print(f'O peso total é {peso} kg, o excedente é de {excesso} kg, portanto a multa é R${multa}.')\n",
    "\n"
   ]
  },
  {
   "cell_type": "markdown",
   "metadata": {},
   "source": [
    "# EXERCICIO 18\n",
    "\n",
    "Faça um Programa que pergunte quanto você ganha por hora e o número\n",
    "de horas trabalhadas no mês. Calcule e mostre o total do seu salário no referido mês, sabendo-se que são descontados 11% para o Imposto de Renda, 8% para o INSS e 5%\n",
    "para o sindicato, faça um programa que nos dê:\n",
    "\n",
    "a) salário bruto.\n",
    "b) quanto pagou ao INSS.\n",
    "c) quanto pagou ao sindicato.\n",
    "d) o salário líquido.\n",
    "e) calcule os descontos e o salário líquido, conforme a tabela abaixo:\n",
    "\n",
    "+ Salário Bruto : R$\n",
    "- IR (11%) : R$\n",
    "- INSS (8%) : R$\n",
    "- Sindicato ( 5%) : R$\n",
    "= Salário Liquido : R$"
   ]
  },
  {
   "cell_type": "code",
   "execution_count": 16,
   "metadata": {},
   "outputs": [
    {
     "name": "stdout",
     "output_type": "stream",
     "text": [
      "+ Salario Bruto : R$10000.0\n",
      "- IR (11%) : R$ 1100.0\n",
      "- INSS (8%) : R$800.0\n",
      "- Sindicato ( 5%) : R$500.0\n",
      "- Salário Liquido : R$7600.0\n"
     ]
    }
   ],
   "source": [
    "# Calculando o salario bruto\n",
    "\n",
    "valorhora = float(input('Informe o quanto voce recebe por hora:'))\n",
    "horastrabalhadas = int(input('Quantas horas Voce trabalho neste mês?'))\n",
    "\n",
    "salariobruto = valorhora * horastrabalhadas\n",
    "\n",
    "# Aliquotas de desconto\n",
    "\n",
    "ir = 0.11\n",
    "inss = 0.08\n",
    "sindicato = 0.05\n",
    "\n",
    "# Calcular o valor dos descontos\n",
    "\n",
    "valor_ir = salariobruto * ir\n",
    "valor_inss = salariobruto * inss\n",
    "valor_sindicato = salariobruto * sindicato\n",
    "\n",
    "# Calcular o salario liquido\n",
    "\n",
    "salario_liquido = salariobruto - valor_ir - valor_inss - valor_sindicato\n",
    "\n",
    "print(f'+ Salario Bruto : R${salariobruto}')\n",
    "print(f'- IR (11%) : R$ {valor_ir}')\n",
    "print(f'- INSS (8%) : R${valor_inss}')\n",
    "print(f'- Sindicato ( 5%) : R${valor_sindicato}')\n",
    "print(f'- Salário Liquido : R${salario_liquido}') \n",
    "\n"
   ]
  },
  {
   "cell_type": "markdown",
   "metadata": {},
   "source": [
    "# EXERCICIO 19\n",
    "\n",
    "Faça um programa para uma loja de tintas. O programa deverá pedir o\n",
    "tamanho em metros quadrados da área a ser pintada. Considere que a cobertura da\n",
    "tinta é de 1 litro para cada 3 metros quadrados e que a tinta é vendida em latas de 18 litros, que custam R$ 80,00. Informe ao usuário a quantidades de latas de tinta a serem compradas e o preço total."
   ]
  },
  {
   "cell_type": "code",
   "execution_count": 18,
   "metadata": {},
   "outputs": [
    {
     "name": "stdout",
     "output_type": "stream",
     "text": [
      "Para pintar uma area de 200.0 m²\n",
      "Serao necessarias 3.7, e o custo total será de R$296.0.\n"
     ]
    }
   ],
   "source": [
    "# Informando a area\n",
    "area_a_cobrir = float(input('Quantos metros quadrados serao pintados?'))\n",
    "\n",
    "# Informando o rendimento da lata \n",
    "\n",
    "rendimento_lata = 54\n",
    "\n",
    "custo_lata = 80\n",
    "\n",
    "# Calculando a quantidade de latas\n",
    "\n",
    "qtdade_latas = round(area_a_cobrir / rendimento_lata,2)\n",
    "custo_total = round(qtdade_latas * custo_lata,2)\n",
    "\n",
    "\n",
    "print(f'Para pintar uma area de {area_a_cobrir} m²')\n",
    "print(f'Serao necessarias {qtdade_latas}, e o custo total será de R${custo_total}.')\n"
   ]
  }
 ],
 "metadata": {
  "kernelspec": {
   "display_name": "Python 3",
   "language": "python",
   "name": "python3"
  },
  "language_info": {
   "codemirror_mode": {
    "name": "ipython",
    "version": 3
   },
   "file_extension": ".py",
   "mimetype": "text/x-python",
   "name": "python",
   "nbconvert_exporter": "python",
   "pygments_lexer": "ipython3",
   "version": "3.11.0"
  }
 },
 "nbformat": 4,
 "nbformat_minor": 2
}
